{
 "cells": [
  {
   "cell_type": "markdown",
   "metadata": {},
   "source": [
    "<font color=\"green\">Intro to RAG</font>\n",
    "- Load large data assets and the ask the LLM questions about it."
   ]
  },
  {
   "cell_type": "markdown",
   "metadata": {},
   "source": [
    "<font color=\"green\">What if the loaded data is too large? We will use RAG.</font>\n",
    "- When you load a document, you end up with strings. Sometimes the strings will be too large to fit into the context window. In those occassions. We will use the RAG technique:\n",
    "  - **Split** document in **small chunks.**\n",
    "  - **Transform** text chunks in **numeric chunks** (embeddings).\n",
    "  - Load **embedding to a vector** database (aka vector store).\n",
    "  - Load question and **retrieve** the most relevant embeddings to respond it.\n",
    "  - Sent the **embeddings to the LLM** to format the response properly.\n"
   ]
  },
  {
   "cell_type": "markdown",
   "metadata": {},
   "source": []
  }
 ],
 "metadata": {
  "language_info": {
   "name": "python"
  }
 },
 "nbformat": 4,
 "nbformat_minor": 2
}
