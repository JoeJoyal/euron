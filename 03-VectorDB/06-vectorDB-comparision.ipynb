{
 "cells": [
  {
   "cell_type": "markdown",
   "id": "28edd62e",
   "metadata": {},
   "source": [
    "| Feature | FAISS | ChromaDB | Pinecone | Weaviate | Qdrant |\n",
    "|   ---   | ---   | ---      | ---      | ---      | ---    |\n",
    "| Type | Library | Library + DB | Managed Cloud DB | Managed DB + OSS | Managed DB + OSS|\n",
    "| Hosting  | Local     | Local (some cloud support)| Cloud-only| Cloud & Self-host| Cloud & Self-host |\n",
    "|Persistent Storage| No (in-memory)| Yes| Yes| Yes| Yes|\n",
    "|Scalability| Manual | Limited | Auto-scaling | Auto-scaling | Auto-scaling |\n",
    "| API Acess | No REST API | Python API | REST/gRPC API | REST/gRPC API | REST/gRPC API|\n",
    "|Indexing Options | IVF, HNSW, PQ, Flat| HNSW| Proprietary| HNSW, Flat, IVF| HNSW, IVF, PQ|\n",
    "| Metadata Filtering| Manual| Built-in| Built-in| Built-in| Built-in|\n",
    "| Replication| No|No|Yes|Yes|Yes|\n",
    "|Embeddings|Vectors only| Vector + Metadata + Documents|Vector + Metadata|Vector + Metadata + Schema| Vectors + Payload|\n",
    "|Integrations|Custom|LangChain, LlamaIndex|LangChain, Llamaindex| LangChain, Llamaindex| LangChain, Llamaindex|\n",
    "|License|MIT|Apache 2.0|Proprietary SaaS| Apache 2.0| Apache 2.0|\n",
    "|Best For| Fast local search| Embeddings + metadata| Production SaaS| Knowledge graph & hybrid search| Vector search with filtering|"
   ]
  },
  {
   "cell_type": "code",
   "execution_count": null,
   "id": "1bb61519",
   "metadata": {},
   "outputs": [],
   "source": []
  }
 ],
 "metadata": {
  "language_info": {
   "name": "python"
  }
 },
 "nbformat": 4,
 "nbformat_minor": 5
}
