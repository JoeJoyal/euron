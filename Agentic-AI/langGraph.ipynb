{
 "cells": [
  {
   "cell_type": "code",
   "execution_count": 1,
   "metadata": {},
   "outputs": [],
   "source": [
    "from langgraph.graph import Graph"
   ]
  },
  {
   "cell_type": "code",
   "execution_count": 4,
   "metadata": {},
   "outputs": [],
   "source": [
    "from langchain_groq import ChatGroq\n",
    "\n",
    "llm = ChatGroq(model=\"llama3-70b-8192\")"
   ]
  },
  {
   "cell_type": "code",
   "execution_count": null,
   "metadata": {},
   "outputs": [],
   "source": [
    "llm"
   ]
  },
  {
   "cell_type": "code",
   "execution_count": 16,
   "metadata": {},
   "outputs": [],
   "source": [
    "def funtion1(input):\n",
    "    llm = ChatGroq(model=\"llama3-70b-8192\")\n",
    "    response = llm.invoke(\"Hi, how are you?\").content\n",
    "    return response"
   ]
  },
  {
   "cell_type": "code",
   "execution_count": 6,
   "metadata": {},
   "outputs": [
    {
     "data": {
      "text/plain": [
       "\"I'm just a language model, so I don't have emotions like humans do, but I'm functioning properly and ready to assist you with any questions or tasks you may have! How can I help you today?\""
      ]
     },
     "execution_count": 6,
     "metadata": {},
     "output_type": "execute_result"
    }
   ],
   "source": [
    "funtion1(\"hi\")"
   ]
  },
  {
   "cell_type": "code",
   "execution_count": 18,
   "metadata": {},
   "outputs": [],
   "source": [
    "def funtion2(input):\n",
    "    upper_string=input.upper()\n",
    "    return upper_string"
   ]
  },
  {
   "cell_type": "code",
   "execution_count": 12,
   "metadata": {},
   "outputs": [],
   "source": [
    "workflow=Graph()"
   ]
  },
  {
   "cell_type": "code",
   "execution_count": 20,
   "metadata": {},
   "outputs": [
    {
     "data": {
      "text/plain": [
       "<langgraph.graph.graph.Graph at 0x26d667742e0>"
      ]
     },
     "execution_count": 20,
     "metadata": {},
     "output_type": "execute_result"
    }
   ],
   "source": [
    "workflow.add_node(\"funtion1\",funtion1)\n",
    "workflow.add_node(\"funtion2\",funtion2)"
   ]
  },
  {
   "cell_type": "code",
   "execution_count": 21,
   "metadata": {},
   "outputs": [
    {
     "data": {
      "text/plain": [
       "<langgraph.graph.graph.Graph at 0x26d667742e0>"
      ]
     },
     "execution_count": 21,
     "metadata": {},
     "output_type": "execute_result"
    }
   ],
   "source": [
    "workflow.add_edge(\"funtion1\", \"funtion2\")"
   ]
  },
  {
   "cell_type": "code",
   "execution_count": 23,
   "metadata": {},
   "outputs": [
    {
     "data": {
      "text/plain": [
       "<langgraph.graph.graph.Graph at 0x26d667742e0>"
      ]
     },
     "execution_count": 23,
     "metadata": {},
     "output_type": "execute_result"
    }
   ],
   "source": [
    "workflow.set_entry_point(\"funtion1\")"
   ]
  },
  {
   "cell_type": "code",
   "execution_count": 24,
   "metadata": {},
   "outputs": [
    {
     "data": {
      "text/plain": [
       "<langgraph.graph.graph.Graph at 0x26d667742e0>"
      ]
     },
     "execution_count": 24,
     "metadata": {},
     "output_type": "execute_result"
    }
   ],
   "source": [
    "workflow.set_finish_point(\"funtion2\")"
   ]
  },
  {
   "cell_type": "code",
   "execution_count": 25,
   "metadata": {},
   "outputs": [],
   "source": [
    "app=workflow.compile()"
   ]
  },
  {
   "cell_type": "code",
   "execution_count": 26,
   "metadata": {},
   "outputs": [
    {
     "data": {
      "image/jpeg": "[encoded data removed]",
      "text/plain": [
       "<IPython.core.display.Image object>"
      ]
     },
     "metadata": {},
     "output_type": "display_data"
    }
   ],
   "source": [
    "from IPython.display import Image, display\n",
    "\n",
    "try:\n",
    "    display(Image(app.get_graph().draw_mermaid_png()))\n",
    "except Exception as e:\n",
    "    # This requires some extra dependencies and is optional\n",
    "    print(e)"
   ]
  },
  {
   "cell_type": "code",
   "execution_count": 27,
   "metadata": {},
   "outputs": [
    {
     "data": {
      "text/plain": [
       "AIMessage(content=\"A great topic! Vertical indoor farming, also known as indoor agriculture or controlled environment agriculture (CEA), is a method of growing plants in vertically stacked layers, often in an indoor environment. This innovative approach to farming offers several benefits, including:\\n\\n**Advantages:**\\n\\n1. **Increased yield**: By growing plants in vertical layers, farmers can increase crop yields while minimizing land use.\\n2. **Water conservation**: Indoor farming uses significantly less water than traditional farming, making it a water-efficient method.\\n3. **Year-round production**: Controlled environments allow for year-round production, regardless of weather or seasonal changes.\\n4. **Reduced land use**: Indoor farming can be done in urban areas, reducing the need for large plots of land and preserving natural habitats.\\n5. **Improved crop quality**: Climate-controlled environments enable precise management of temperature, humidity, and light, resulting in higher-quality crops.\\n6. **Reduced transportation costs**: Indoor farms can be located near urban centers, reducing transportation costs and increasing freshness.\\n7. **Increased food safety**: Indoor farming reduces the risk of contamination and allows for more control over the growing environment.\\n8. **Year-round job creation**: Indoor farming provides a stable and consistent work environment, creating jobs throughout the year.\\n\\n**Types of vertical indoor farming:**\\n\\n1. **Hydroponics**: Plants are grown in nutrient-rich water rather than soil.\\n2. **Aeroponics**: Plants are grown in the air, with their roots suspended in a nutrient-rich mist.\\n3. **Aquaponics**: A system that combines hydroponics with fish farming, using fish waste as fertilizer.\\n4. **Vertical hydroponics**: Plants are grown in vertically stacked layers, often using a hydroponic system.\\n5. **Living walls**: Plants are grown on walls, often using a trellis system or a hydroponic setup.\\n\\n**Challenges and limitations:**\\n\\n1. **High initial investment**: Setting up an indoor farm can be expensive, especially for large-scale operations.\\n2. **Energy consumption**: Indoor farming requires significant energy to power lighting, climate control, and other systems.\\n3. **Limited crop selection**: Some crops may not be well-suited for indoor farming, and may require specialized equipment or conditions.\\n4. **Labor costs**: Indoor farming can be labor-intensive, especially when it comes to monitoring and maintaining the controlled environment.\\n5. **Pest management**: Indoor farms can be vulnerable to pests, such as insects and diseases, which can spread quickly in a controlled environment.\\n\\n**Examples and innovations:**\\n\\n1. **Vertical farm companies**: Companies like AeroFarms, Plenty, and Bowery Farming are leading the way in vertical indoor farming.\\n2. **Indoor farm-to-table restaurants**: Restaurants like NextGen Farm-to-Table and Farmbox Greens are integrating indoor farms into their operations.\\n3. **Research and development**: Universities and research institutions are exploring new technologies and techniques to improve indoor farming, such as AI-powered climate control and LED lighting.\\n4. **Community-based indoor farms**: Community-based projects, like urban agriculture initiatives, are promoting indoor farming as a way to increase food access and community engagement.\\n\\nOverall, vertical indoor farming has the potential to transform the way we grow and distribute food, offering a sustainable, efficient, and productive solution to meet the world's growing food demands.\", response_metadata={'token_usage': {'completion_tokens': 677, 'prompt_tokens': 17, 'total_tokens': 694, 'completion_time': 1.934708216, 'prompt_time': 0.003483915, 'queue_time': 0.018059022, 'total_time': 1.938192131}, 'model_name': 'llama3-70b-8192', 'system_fingerprint': 'fp_753a4aecf6', 'finish_reason': 'stop', 'logprobs': None}, id='run-92113bf6-a8b3-4065-866f-03f362270b2b-0', usage_metadata={'input_tokens': 17, 'output_tokens': 677, 'total_tokens': 694})"
      ]
     },
     "execution_count": 27,
     "metadata": {},
     "output_type": "execute_result"
    }
   ],
   "source": [
    "llm.invoke(\"Give me about vertical indoor farming?\")"
   ]
  },
  {
   "cell_type": "code",
   "execution_count": 28,
   "metadata": {},
   "outputs": [
    {
     "data": {
      "text/plain": [
       "'Vertical indoor farming, also known as indoor agriculture or vertical farming, is a method of growing plants in vertically stacked layers, often in an indoor environment. This approach is gaining popularity due to its potential to increase crop yields, reduce land use, and provide a sustainable way to produce fresh produce year-round. Here are some key aspects of vertical indoor farming:\\n\\n**Benefits:**\\n\\n1. **Increased crop yields**: By stacking layers of plants, vertical indoor farming can increase crop yields per square foot of land, making it a more efficient use of space.\\n2. **Water conservation**: Indoor farming uses significantly less water than traditional outdoor farming, as the water is recirculated and reused.\\n3. **Year-round production**: With controlled indoor environments, crops can be grown 365 days a year, regardless of weather conditions or seasonality.\\n4. **Reduced land use**: By growing vertically, indoor farming can be done in urban areas, reducing the need for large plots of land and preserving natural habitats.\\n5. **Improved crop quality**: Indoor farming allows for precise control over growing conditions, resulting in higher-quality crops with longer shelf lives.\\n6. **Reduced transportation costs**: By growing crops closer to consumers, transportation costs and carbon emissions are reduced.\\n\\n**Challenges:**\\n\\n1. **High initial investment**: Setting up a vertical indoor farm can be costly, as it requires specialized equipment and infrastructure.\\n2. **Energy consumption**: Indoor farming requires a significant amount of energy to power lighting, climate control, and other systems.\\n3. **Labor costs**: Indoor farming can be labor-intensive, as plants need to be monitored and maintained regularly.\\n4. **Limited crop selection**: Not all crops are suitable for indoor farming, and some may require specialized equipment or conditions.\\n\\n**Technologies used:**\\n\\n1. **LED lighting**: Energy-efficient LED lighting is used to provide the necessary spectrum and intensity for plant growth.\\n2. **Climate control**: Sophisticated climate control systems regulate temperature, humidity, and air circulation to optimize growing conditions.\\n3. **Hydroponics or aeroponics**: Plants are grown in nutrient-rich solutions rather than soil, allowing for precise control over nutrient delivery.\\n4. **Sensors and monitoring systems**: Advanced sensors and monitoring systems track temperature, humidity, CO2 levels, and other factors to ensure optimal growing conditions.\\n5. **Vertical growing systems**: Plants are grown in vertically stacked layers, often using trellises, towers, or other support systems.\\n\\n**Applications:**\\n\\n1. **Urban agriculture**: Vertical indoor farming can be used to provide fresh produce to urban areas, reducing transportation costs and increasing food security.\\n2. **Commercial production**: Large-scale vertical indoor farms can supply produce to grocery stores, restaurants, and other customers.\\n3. **Research and development**: Indoor farming can be used for research and development of new crop varieties, growing techniques, and sustainable agriculture practices.\\n4. **Educational institutions**: Vertical indoor farms can be used as teaching tools and research facilities for students and educators.\\n\\nOverall, vertical indoor farming has the potential to transform the way we grow and consume food, offering a sustainable and efficient way to produce fresh, healthy produce while reducing our environmental footprint.'"
      ]
     },
     "execution_count": 28,
     "metadata": {},
     "output_type": "execute_result"
    }
   ],
   "source": [
    "llm.invoke(\"Give me about vertical indoor farming?\").content"
   ]
  },
  {
   "cell_type": "code",
   "execution_count": null,
   "metadata": {},
   "outputs": [],
   "source": []
  }
 ],
 "metadata": {
  "kernelspec": {
   "display_name": "Python 3",
   "language": "python",
   "name": "python3"
  },
  "language_info": {
   "codemirror_mode": {
    "name": "ipython",
    "version": 3
   },
   "file_extension": ".py",
   "mimetype": "text/x-python",
   "name": "python",
   "nbconvert_exporter": "python",
   "pygments_lexer": "ipython3",
   "version": "3.10.15"
  }
 },
 "nbformat": 4,
 "nbformat_minor": 2
}
