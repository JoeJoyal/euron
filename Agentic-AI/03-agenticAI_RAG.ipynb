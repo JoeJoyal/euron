{
 "cells": [
  {
   "cell_type": "code",
   "execution_count": 3,
   "metadata": {},
   "outputs": [],
   "source": [
    "from langchain import hub\n",
    "from typing import Annotated, Literal, Sequence, TypedDict\n",
    "from langchain_core.messages import BaseMessage, HumanMessage\n",
    "from langchain_core.output_parsers import StrOutputParser\n",
    "from langchain_core.prompts import PromptTemplate\n",
    "from langchain_core.pydantic_v1 import BaseModel, Field\n",
    "from langgraph.graph.message import add_messages\n",
    "from langgraph.prebuilt import tools_condition\n",
    "from langchain_community.document_loaders import WebBaseLoader\n",
    "from langchain_community.vectorstores import Chroma\n",
    "from langchain_text_splitters import RecursiveCharacterTextSplitter\n",
    "from langchain.tools.retriever import create_retriever_tool\n",
    "from langgraph.graph import END, StateGraph, START\n",
    "from langgraph.prebuilt import ToolNode"
   ]
  },
  {
   "cell_type": "code",
   "execution_count": 4,
   "metadata": {},
   "outputs": [],
   "source": [
    "from langchain_huggingface import HuggingFaceEmbeddings"
   ]
  },
  {
   "cell_type": "code",
   "execution_count": 5,
   "metadata": {},
   "outputs": [
    {
     "name": "stderr",
     "output_type": "stream",
     "text": [
      "d:\\active-learning\\GENERATIVEAI\\genai_bootcamp\\nenv\\lib\\site-packages\\tqdm\\auto.py:21: TqdmWarning: IProgress not found. Please update jupyter and ipywidgets. See https://ipywidgets.readthedocs.io/en/stable/user_install.html\n",
      "  from .autonotebook import tqdm as notebook_tqdm\n",
      "d:\\active-learning\\GENERATIVEAI\\genai_bootcamp\\nenv\\lib\\site-packages\\huggingface_hub\\file_download.py:140: UserWarning: `huggingface_hub` cache-system uses symlinks by default to efficiently store duplicated files but your machine does not support them in C:\\Users\\Joejoyal\\.cache\\huggingface\\hub\\models--sentence-transformers--all-MiniLM-L6-v2. Caching files will still work but in a degraded version that might require more space on your disk. This warning can be disabled by setting the `HF_HUB_DISABLE_SYMLINKS_WARNING` environment variable. For more details, see https://huggingface.co/docs/huggingface_hub/how-to-cache#limitations.\n",
      "To support symlinks on Windows, you either need to activate Developer Mode or to run Python as an administrator. In order to activate developer mode, see this article: https://docs.microsoft.com/en-us/windows/apps/get-started/enable-your-device-for-development\n",
      "  warnings.warn(message)\n"
     ]
    }
   ],
   "source": [
    "embeddings = HuggingFaceEmbeddings(model_name=\"all-MiniLM-L6-v2\")"
   ]
  },
  {
   "cell_type": "code",
   "execution_count": 9,
   "metadata": {},
   "outputs": [],
   "source": [
    "from langchain_groq import ChatGroq"
   ]
  },
  {
   "cell_type": "code",
   "execution_count": 18,
   "metadata": {},
   "outputs": [],
   "source": [
    "llm = ChatGroq(model_name=\"gemma2-9b-it\")"
   ]
  },
  {
   "cell_type": "code",
   "execution_count": 19,
   "metadata": {},
   "outputs": [
    {
     "data": {
      "text/plain": [
       "AIMessage(content=\"As an AI, I don't have feelings, but I'm here and ready to help! How can I assist you today? 😊\\n\", response_metadata={'token_usage': {'completion_tokens': 32, 'prompt_tokens': 15, 'total_tokens': 47, 'completion_time': 0.058181818, 'prompt_time': 8.308e-05, 'queue_time': 0.019101200000000002, 'total_time': 0.058264898}, 'model_name': 'gemma2-9b-it', 'system_fingerprint': 'fp_10c08bf97d', 'finish_reason': 'stop', 'logprobs': None}, id='run-8c4f2c60-a7cd-416e-897f-80204a485209-0', usage_metadata={'input_tokens': 15, 'output_tokens': 32, 'total_tokens': 47})"
      ]
     },
     "execution_count": 19,
     "metadata": {},
     "output_type": "execute_result"
    }
   ],
   "source": [
    "llm.invoke(\"Hi, How are you!\")"
   ]
  },
  {
   "cell_type": "code",
   "execution_count": 36,
   "metadata": {},
   "outputs": [],
   "source": [
    "urls = [\n",
    "    \"https://ageyetech.com/hyve/\",\n",
    "    \"https://ageyetech.com/digitalcultivation/\",\n",
    "    \"https://ageyetech.com/intelligence/\"\n",
    "]"
   ]
  },
  {
   "cell_type": "code",
   "execution_count": 37,
   "metadata": {},
   "outputs": [],
   "source": [
    "docs = [WebBaseLoader(url).load() for url in urls]"
   ]
  },
  {
   "cell_type": "code",
   "execution_count": 38,
   "metadata": {},
   "outputs": [
    {
     "data": {
      "text/plain": [
       "[[Document(metadata={'source': 'https://ageyetech.com/hyve/', 'title': 'HYVE - AGEYE Technologies', 'language': 'en-US'}, page_content='  HYVE - AGEYE Technologies                             SolutionsGrowOperationsIntelligenceCompanyAboutMissionPress and BlogsJobsRequest Demo AGEYE Grow A fully automated and scalable vertical farming system, integrating cutting-edge robotics, fertigation, and robust racking. What is HYVE? Hydroponic Year-Round Vertical Ecosystem A comprehensive, turnkey solution that merges modular racking systems with advanced robotic automation for effortless crop management and farm operations, empowering indoor growers to cultivate a broader range of crops with increased yields and significantly reduced operating costs. A Complete, Automated and Scalable System from One Source Full Automation Efficient and practical robotics technology significantly reduces human errors, improves plant health, and lowers labor costs, all without the substantial financial investment typically required by advanced technologies. Robotic seeding, planting, scouting, harvesting, tray washing, and more accelerates the farming process to ensure efficient crop turns and yields. Advanced Controlled Environment Monitoring Ensures year-round cultivation in a controlled environment that remains impervious to any climate conditions. It is complemented by advanced monitoring systems, guaranteeing precise control over the growing environment. Real Labor Savings By automating the movement of plants from seeding to harvest, the robots streamline operations, creating a consistent and efficient workflow. They minimize human error, optimize plant care, and significantly cut down on labor costs. Increased Yields and Accelerated Growth HYVE enhances plant growth by delivering an optimal mix of growth factors, including ideal lighting, crop spacing, and airflow. This combination promotes superior plant development, ensuring plants grow healthy and achieve their full potential. Space Saving Productivity Our grow racks, which can be configured to reach up to 20 layers high and extend 120 feet in length, significantly increase productivity, yielding up to 300 times more than traditional field farming in the same amount of space. Integrated Fertigation Our system enhances water and nutrient distribution by delivering precise nutrient doses and uniform water flow to every level, accommodating a range of crops across their growth phases and in varied conditions. This precision leads to more consistent harvests, enhancing the quality and reliability of crop production. Learn More about HYVE  Quicker Growth. Enhanced Yields. Grow More. Worry Less. We automate plant movement from seeding to harvest, streamline operations for consistent workflow, minimize human error, enhance plant care, and drastically reduce labor costs, emphasizing space-saving high productivity. Want to learn more? Request a DemoA Proven Solution Precision Indoor Farming at Commercial Scale AGEYE Grow Everything You Need for Automated Vertical Farming Scalable Vertical Racks (4-20 Levels)Engineered to maximize both space efficiency and plant production. Full-Spectrum LED Grow LightsMimics natural light, enhancing plant growth. Advanced Hydroponic Fertigation SystemDelivers precise nutrients and water for optimal growth. Durable Food-Grade Growing TraysThese trays ensure a safe and hygienic environment for edible crops. Seeding & Transplanting SolutionsStreamlines the early stages of plant growth. Elevator & Transit RobotsAutomates plant movement, reducing labor. Dedicated Germination NurseriesOptimizes conditions for seed germination. Harvesting & Root Cutting TechnologyEfficiently prepares plants for market. Automated Tray CleaningMaintains high sanitary standards with minimal effort & time. Packaging & Traceability ToolsEnsures product quality and traceability. Automated Tray Storage SolutionsSaves space and improves workflows. Interlayer Horizontal AirflowEnsures uniform air distribution for plant health. Precision Environment SensorsMonitors and adjusts growing conditions. Automated Crop ScoutingPowerful AI technology for early issue detection. Farm Management SoftwareCentral control for your vertical farm operations. Integrated Power & PLC SystemsReliable and efficient energy and control systems. Learn More about HYVE  Industry Solutions Beyond Leafy Greens Vertical farms are not only feasible and financially successful for cultivating leafy greens, herbs, and other high-value crops, but they can also be key players in the next generation of agriculture. Vertical farms offer a broad spectrum of possibilities, from molecular farming that generates crucial medicines and sustainable materials, to repurposing vacant office spaces, to the efficient and safe production of cannabis and hemp. HYVE As a Biomanufacturing Platform for the Future of Food and Pharmaceuticals      Transforming food and medicine production through advanced genetic engineering of plant cells to create therapeutic proteins, vaccines, and other valuable biological products.         HYVE As a Platform for the The Future of Cannabis and Hemp Revolutionize cannabis and hemp cultivation with precise environmental control, quality optimization, and lifecycle traceability, setting new standards for sustainable and efficient production. HYVE As a Platform for Revitalizing Commercial Real Estate Our innovative solution repurposes vacant office spaces into productive vertical farms, addressing rising vacancies while meeting the demand for sustainable food production in urban areas. Collaborate   AGEYE is a strong advocate for collaboration as a driving force in advancing the Controlled Environment Agriculture (CEA) industry. If you’re an OEM, vendor, or solutions provider looking to join our ecosystem, please get in touch!   Book a CallLearn More about HYVE  Our Solutions AGEYE Operations Digital Cultivation AGEYE Intelligence Supercharged Crop Intelligence      AGEYE specializes in advanced farm management software, IoT devices, AI-driven crop analytics, and fully automated robotic solutions for vertical farming. Our focus is on enhancing revenue per square foot using data-driven precision agriculture. We’re dedicated to making indoor farming viable and profitable by embracing sustainability and leveraging intelligence to simplify complexities. Our technology empowers indoor growers to transform challenges into opportunities, setting new standards for the future of controlled environment agriculture. United States 4701 Atlantic Ave, Suite 141 Raleigh, NC 27604 India #50 & 50A; 1st Main, Vajpayee Nagar, Hosur Main Road, Bommanahalli, Bangalore, KA 560068 Get in Touch: hello@ageyetech.comFollow us on: InstagramLinkedInFacebookYouTubeVimeoAGEYE  Home AGEYE Grow AGEYE Operations AGEYE Intelligence About Mission News Careers  HYVE  Home Features Markets About Us Press  Our Brands  AGEYE HYVE Digital Cultivation Moonshot Farms AGEYE Labs  Patents: US 10,803,312; US 11,308,715; US 11,775,828 Copyright 2024 AGEYE Technologies  Terms of Use Privacy Policy  Get in Touch  keyboard_arrow_up Menu                          ')],\n",
       " [Document(metadata={'source': 'https://ageyetech.com/digitalcultivation/', 'title': 'Digital Cultivation - AGEYE Technologies', 'language': 'en-US'}, page_content='  Digital Cultivation - AGEYE Technologies                             SolutionsGrowOperationsIntelligenceCompanyAboutMissionPress and BlogsJobsRequest Demo AGEYE Operations An indoor farm management platform that brings together all data and operational controls into one easy-to-use interface. What do we do? Comprehensive Farm Management and Resource Planning for CEA Operations Our AI-powered farm management platform provides growers with an all-encompassing toolkit for managing their entire farming operation. It covers everything from planting schedules and crop performance metrics to energy consumption and resource distribution, ensuring improved visibility and optimized cost efficiency. This lays the groundwork for undeniable profitability. By consolidating complete farm management, advanced crop intelligence, and precise operational control into a single dashboard, our platform ensures peak performance, representing the cutting edge of intelligent farm management software. Centralized Control Accurate Forecasting Digital Twins Operational Ease Want to see it in action? Request a Demo Centralized Dashboard Digital Cultivation is a centralized dashboard that gathers all data into a user-friendly platform, digitizing the entire farming process for a comprehensive operational overview. This centralization enables data-driven decisions, streamlines efficiency, and increases productivity. Stay updated with instant alerts and notifications. Alerts and Notifications Stay ahead of potential problems with our advanced alerts and notifications system. Receive immediate updates on crucial issues, from leak detection in your irrigation system to deviations in environmental conditions like temperature and humidity. Our platform ensures you’re always the first to know when attention is needed, allowing for swift action to prevent damage to your crops. Efficient Crop Planning and Scheduling With our platform’s advanced algorithms, tailor your farming activities to match crop cycles perfectly, enabling precise planning and scheduling. This ensures that planting, nurturing, and harvesting are carried out at the optimal times. This strategic planning aligns with market demand, ensuring your produce is ready at the right moment. AI Optimized Crop Schedules Our platform uses AI to analyze vast amounts of data, from environment conditions to plant growth rates, predicting the best planting schedules for maximum yield. This intelligent system adjusts in real-time to changes in environmental factors or crop performance, providing dynamic scheduling that adapts to your farm’s unique conditions. By optimizing crop schedules, you reduce waste, enhance productivity, and significantly increase your farming operation’s overall efficiency. Inventory and Supply Chain Management Manage your resources effortlessly. Track seeds, nutrients, and other supplies with precision. Plan your harvests and distribution effectively to meet demand and reduce waste. Data Analysis and Reporting Gain valuable insights into yield forecasts, monitor resource consumption, and assess operational efficiency to fine-tune your farming strategies. By comparing historical growth cycles and establishing performance benchmarks, our comprehensive reports guide you in refining practices to boost your farm’s output and profitability. Energy Management Optimize your energy use. Integrate sustainable energy solutions and monitor consumption to reduce costs and environmental impact. Our energy management tools help you run a more efficient and green operation. Comprehensive System Control Our software places full control of your indoor farm’s systems and operational activities at your fingertips. With just a few clicks, manage every aspect of your environment – from lighting and pumps to airflow – ensuring each element operates at peak efficiency. The platform empowers you with the ability to streamline and oversee key farming tasks such as scouting, planting, and harvesting. This holistic approach to farm management simplifies complex processes, allowing you to adjust conditions in real-time and automate routine operations for unparalleled productivity and results. By integrating control over both hardware systems and farming activities, our software delivers a seamless, efficient farming experience that saves time and enhances yield. Unmatched Integration Designed with unlimited integration capabilities that enable seamless connections with a wide range of other systems through API integration and ensuring data interoperability. This flexibility enables farms to easily share, analyze, and manage data across different vendor technologies and platforms, enhancing operational efficiency and decision-making processes. Food Safety and Automated Record Keeping It’s never been easier to adhere to the FDA’s Produce Safety Rules by enhancing traceability and record-keeping, crucial for managing safety incidents. Digital Cultivation automates compliance with water and soil quality standards, ensuring environmental factors meet FDA guidelines. Additionally, our platform facilitates the implementation of worker health and hygiene practices, directly contributing to the prevention of contamination and the spread of foodborne illnesses. This comprehensive approach supports farms in upholding stringent food safety standards, promoting a safer produce supply chain. Transparent Food Traceability All the Way to the Customer In addition to offering comprehensive control and oversight of plant growth on our farms, we extend this transparency to our customers who purchase our farm-fresh produce. Through a simple QR code scan on the packaging, users can access a summary of how each batch of produce was cultivated without human touch. This commitment to transparency ensures that consumers have a clear understanding of the quality and safety of their food. Grow More. Worry Less. Digital Cultivation’s flexibility allows indoor growers with unique farm configurations to personalize the platform to suit their individual requirements, enhancing efficiency and increasing productivity throughout their operations. Request a DemoOur Solutions AGEYE Grow Hydroponic Year Round Vertical Ecosystem (HYVE) AGEYE Intelligence Supercharged Crop Intelligence AGEYE Operations Our indoor farming platform helps indoor growers produce more crops, with higher yields, and at a lower operating cost, thereby increasing the availability of locally sourced food. AGEYE enables digitization of indoor farms Want to see it in action? Request a Demo      AGEYE specializes in advanced farm management software, IoT devices, AI-driven crop analytics, and fully automated robotic solutions for vertical farming. Our focus is on enhancing revenue per square foot using data-driven precision agriculture. We’re dedicated to making indoor farming viable and profitable by embracing sustainability and leveraging intelligence to simplify complexities. Our technology empowers indoor growers to transform challenges into opportunities, setting new standards for the future of controlled environment agriculture. United States 4701 Atlantic Ave, Suite 141 Raleigh, NC 27604 India #50 & 50A; 1st Main, Vajpayee Nagar, Hosur Main Road, Bommanahalli, Bangalore, KA 560068 Get in Touch: hello@ageyetech.comFollow us on: InstagramLinkedInFacebookYouTubeVimeoAGEYE  Home AGEYE Grow AGEYE Operations AGEYE Intelligence About Mission News Careers  HYVE  Home Features Markets About Us Press  Our Brands  AGEYE HYVE Digital Cultivation Moonshot Farms AGEYE Labs  Patents: US 10,803,312; US 11,308,715; US 11,775,828 Copyright 2024 AGEYE Technologies  Terms of Use Privacy Policy  Get in Touch  keyboard_arrow_up Menu                          ')],\n",
       " [Document(metadata={'source': 'https://ageyetech.com/intelligence/', 'title': 'Intelligence - AGEYE Technologies', 'language': 'en-US'}, page_content='  Intelligence - AGEYE Technologies                               SolutionsGrowOperationsIntelligenceCompanyAboutMissionPress and BlogsJobsRequest Demo AGEYE Intelligence The leading AI-powered crop intelligence platform for controlled environment agriculture (CEA). Our unique, patented crop intelligence technology is designed from the ground up for indoor farming and honed using millions of real farm data sets, resulting in unparalleled efficiency and productivity across your entire farming operation. AGEYE’s AI platform revolutionizes indoor farming with three advanced AI models, each specifically designed to address distinct aspects of indoor farm management and enhance operational efficiencies. LAM Large Action Models Our LAM technology processes diverse datasets to forecast and refine plant growth strategies, ensuring precise adjustments are made for maximum yield, profitability, and operational efficiency. This transforms insights into tangible actions, streamlining farm operations and enhancing productivity. LLM Large Language Models By analyzing vast amounts of textual data, including environmental conditions, input costs, and crop health reports, alongside deep horticultural knowledge, we convert complex information into actionable insights using generative AI. This empowers farmers with smarter, data-driven farming practices that optimize resources and improve decision-making. CNN Convolutional Neural Networks Our intelligent crop scouting system utilizes visual inputs to provide actionable insights on growth development, enabling the early detection of issues like plant stress, pathogens, or pests. This proactive monitoring saves time, reduces resource usage, and minimizes the risk of crop loss. AGEYE’s Truly Intelligent FarmingTM By optimizing crop yields and streamlining operations, our platform ensures farms operate at peak performance, reducing costs and boosting productivity.         Innovating with Non-DestructiveData Collection and Real-Time Analytics We are proud to introduce the industry’s first non-destructive data collection and real-time distribution modeling system, tailored for commercial growers. The system captures a wealth of data for every single plant, including detailed imagery and environmental readings. This revolutionary approach captures and analyzes critical metrics like fresh mass, temperature, airflow, and height distribution, empowering growers with invaluable insights.            Innovating with Non-DestructiveData Collection and Real-Time Analytics We are proud to introduce the industry’s first non-destructive data collection and real-time distribution modeling system, tailored for commercial growers. The system captures a wealth of data for every single plant, including detailed imagery and environmental readings. This revolutionary approach captures and analyzes critical metrics like fresh mass, temperature, airflow, and height distribution, empowering growers with invaluable insights.    Fresh Mass Distribution         Innovating with Non-DestructiveData Collection and Real-Time Analytics We are proud to introduce the industry’s first non-destructive data collection and real-time distribution modeling system, tailored for commercial growers. The system captures a wealth of data for every single plant, including detailed imagery and environmental readings. This revolutionary approach captures and analyzes critical metrics like fresh mass, temperature, airflow, and height distribution, empowering growers with invaluable insights.    Thermal Imaging         Innovating with Non-DestructiveData Collection and Real-Time Analytics We are proud to introduce the industry’s first non-destructive data collection and real-time distribution modeling system, tailored for commercial growers. The system captures a wealth of data for every single plant, including detailed imagery and environmental readings. This revolutionary approach captures and analyzes critical metrics like fresh mass, temperature, airflow, and height distribution, empowering growers with invaluable insights.    Airflow Distribution         Innovating with Non-DestructiveData Collection and Real-Time Analytics We are proud to introduce the industry’s first non-destructive data collection and real-time distribution modeling system, tailored for commercial growers. The system captures a wealth of data for every single plant, including detailed imagery and environmental readings. This revolutionary approach captures and analyzes critical metrics like fresh mass, temperature, airflow, and height distribution, empowering growers with invaluable insights.    Depth Imaging         Innovating with Non-DestructiveData Collection and Real-Time Analytics We are proud to introduce the industry’s first non-destructive data collection and real-time distribution modeling system, tailored for commercial growers. The system captures a wealth of data for every single plant, including detailed imagery and environmental readings. This revolutionary approach captures and analyzes critical metrics like fresh mass, temperature, airflow, and height distribution, empowering growers with invaluable insights.    Depth Imaging             Innovating with Non-Destructive Data Collection and Real-Time Analytics We are proud to introduce the industry’s first non-destructive data collection and real-time distribution modeling system, tailored for commercial growers. The system captures a wealth of data for every single plant, including detailed imagery and environmental readings. This revolutionary approach captures and analyzes critical metrics like fresh mass, temperature, airflow, and height distribution, empowering growers with invaluable insights.                                Per Plant Visibility AGEYE’s Autonomous Robotic Imaging System (ARIS) redefines precision agriculture by offering per-plant visibility. It allows you to view distributions like fresh mass and VPD across multiple levels or individual trays. This capability enables growers to identify trends, detect issues, and take proactive steps. Whether a plant is nestled in a corner tray or at the top tier of a rack, it receives individual monitoring and analysis, ensuring the highest level of care and precision. Data collection ARISTM – Autonomous Robotic Imaging SystemTM ARISTM is taking crop scouting and monitoring to new heights, integrating three imaging technologies—RGB, Thermal, and Depth—alongside sensors for airflow, temperature, relative humidity, and CO2. Powered by onboard NVIDIA GPUs for edge processing, ARIS operates directly within your farm, ensuring real-time analysis and unparalleled precision in environmental control and plant health monitoring. No one offers a more comprehensive, accurate and validated AI solution for indoor farms. Digital Twin A virtual representation of your farm, allowing for real-time analysis and simulation of different conditions and variables. Optimized Resource Utilization Strategic use of data analysis and real-time monitoring to ensure every drop of water, kilowatt of energy, and ounce of nutrients are used precisely where needed, maximizing their impact on plant growth. Visualize Farming Operations Predict outcomes by simulating various scenarios to optimize growing conditions, enhance yields, and minimize resource use, as well as real-time monitoring of plant health, environmental conditions, and system efficiency. Want to see it in action? Request a Demo Profitable Operations are Driven by Insight, Not Instinct In indoor vertical farms, all factors necessary for growing are intricately interconnected, creating a complex web of interactions that can be challenging to comprehend. Our data-driven approach simplifies this complexity by providing commercial growers with the tools to precisely understand how environmental and nutrient changes affect their crops within their specific facilities. By analyzing vast amounts of data and identifying patterns, our approach enables growers to make informed decisions and optimize their growing conditions for maximum yield and quality. This level of precision empowers growers to navigate the intricate dynamics of indoor farming with confidence, ultimately leading to more efficient and successful crop production.      Want to see it in action? Request a Demo Our Solutions AGEYE Grow Hydroponic Year Round Vertical Ecosystem (HYVE) AGEYE Operations Digital Cultivation      AGEYE specializes in advanced farm management software, IoT devices, AI-driven crop analytics, and fully automated robotic solutions for vertical farming. Our focus is on enhancing revenue per square foot using data-driven precision agriculture. We’re dedicated to making indoor farming viable and profitable by embracing sustainability and leveraging intelligence to simplify complexities. Our technology empowers indoor growers to transform challenges into opportunities, setting new standards for the future of controlled environment agriculture. United States 4701 Atlantic Ave, Suite 141 Raleigh, NC 27604 India #50 & 50A; 1st Main, Vajpayee Nagar, Hosur Main Road, Bommanahalli, Bangalore, KA 560068 Get in Touch: hello@ageyetech.comFollow us on: InstagramLinkedInFacebookYouTubeVimeoAGEYE  Home AGEYE Grow AGEYE Operations AGEYE Intelligence About Mission News Careers  HYVE  Home Features Markets About Us Press  Our Brands  AGEYE HYVE Digital Cultivation Moonshot Farms AGEYE Labs  Patents: US 10,803,312; US 11,308,715; US 11,775,828 Copyright 2024 AGEYE Technologies  Terms of Use Privacy Policy  Get in Touch  keyboard_arrow_up Menu                          ')]]"
      ]
     },
     "execution_count": 38,
     "metadata": {},
     "output_type": "execute_result"
    }
   ],
   "source": [
    "docs"
   ]
  },
  {
   "cell_type": "code",
   "execution_count": 35,
   "metadata": {},
   "outputs": [
    {
     "data": {
      "text/plain": [
       "{'source': 'https://ageyetech.com/intelligence/',\n",
       " 'title': 'Intelligence - AGEYE Technologies',\n",
       " 'language': 'en-US'}"
      ]
     },
     "execution_count": 35,
     "metadata": {},
     "output_type": "execute_result"
    }
   ],
   "source": [
    "docs[0][0].metadata"
   ]
  },
  {
   "cell_type": "code",
   "execution_count": 40,
   "metadata": {},
   "outputs": [
    {
     "data": {
      "text/plain": [
       "{'source': 'https://ageyetech.com/digitalcultivation/',\n",
       " 'title': 'Digital Cultivation - AGEYE Technologies',\n",
       " 'language': 'en-US'}"
      ]
     },
     "execution_count": 40,
     "metadata": {},
     "output_type": "execute_result"
    }
   ],
   "source": [
    "docs[1][0].metadata"
   ]
  },
  {
   "cell_type": "code",
   "execution_count": 41,
   "metadata": {},
   "outputs": [
    {
     "data": {
      "text/plain": [
       "{'source': 'https://ageyetech.com/intelligence/',\n",
       " 'title': 'Intelligence - AGEYE Technologies',\n",
       " 'language': 'en-US'}"
      ]
     },
     "execution_count": 41,
     "metadata": {},
     "output_type": "execute_result"
    }
   ],
   "source": [
    "docs[2][0].metadata"
   ]
  },
  {
   "cell_type": "code",
   "execution_count": 46,
   "metadata": {},
   "outputs": [],
   "source": [
    "text_splitter = RecursiveCharacterTextSplitter.from_tiktoken_encoder(chunk_size=100, chunk_overlap=5)"
   ]
  },
  {
   "cell_type": "code",
   "execution_count": 44,
   "metadata": {},
   "outputs": [],
   "source": [
    "docs_list = [item for sublist in docs for item in sublist]"
   ]
  },
  {
   "cell_type": "code",
   "execution_count": 45,
   "metadata": {},
   "outputs": [
    {
     "data": {
      "text/plain": [
       "[Document(metadata={'source': 'https://ageyetech.com/hyve/', 'title': 'HYVE - AGEYE Technologies', 'language': 'en-US'}, page_content='  HYVE - AGEYE Technologies                             SolutionsGrowOperationsIntelligenceCompanyAboutMissionPress and BlogsJobsRequest Demo AGEYE Grow A fully automated and scalable vertical farming system, integrating cutting-edge robotics, fertigation, and robust racking. What is HYVE? Hydroponic Year-Round Vertical Ecosystem A comprehensive, turnkey solution that merges modular racking systems with advanced robotic automation for effortless crop management and farm operations, empowering indoor growers to cultivate a broader range of crops with increased yields and significantly reduced operating costs. A Complete, Automated and Scalable System from One Source Full Automation Efficient and practical robotics technology significantly reduces human errors, improves plant health, and lowers labor costs, all without the substantial financial investment typically required by advanced technologies. Robotic seeding, planting, scouting, harvesting, tray washing, and more accelerates the farming process to ensure efficient crop turns and yields. Advanced Controlled Environment Monitoring Ensures year-round cultivation in a controlled environment that remains impervious to any climate conditions. It is complemented by advanced monitoring systems, guaranteeing precise control over the growing environment. Real Labor Savings By automating the movement of plants from seeding to harvest, the robots streamline operations, creating a consistent and efficient workflow. They minimize human error, optimize plant care, and significantly cut down on labor costs. Increased Yields and Accelerated Growth HYVE enhances plant growth by delivering an optimal mix of growth factors, including ideal lighting, crop spacing, and airflow. This combination promotes superior plant development, ensuring plants grow healthy and achieve their full potential. Space Saving Productivity Our grow racks, which can be configured to reach up to 20 layers high and extend 120 feet in length, significantly increase productivity, yielding up to 300 times more than traditional field farming in the same amount of space. Integrated Fertigation Our system enhances water and nutrient distribution by delivering precise nutrient doses and uniform water flow to every level, accommodating a range of crops across their growth phases and in varied conditions. This precision leads to more consistent harvests, enhancing the quality and reliability of crop production. Learn More about HYVE  Quicker Growth. Enhanced Yields. Grow More. Worry Less. We automate plant movement from seeding to harvest, streamline operations for consistent workflow, minimize human error, enhance plant care, and drastically reduce labor costs, emphasizing space-saving high productivity. Want to learn more? Request a DemoA Proven Solution Precision Indoor Farming at Commercial Scale AGEYE Grow Everything You Need for Automated Vertical Farming Scalable Vertical Racks (4-20 Levels)Engineered to maximize both space efficiency and plant production. Full-Spectrum LED Grow LightsMimics natural light, enhancing plant growth. Advanced Hydroponic Fertigation SystemDelivers precise nutrients and water for optimal growth. Durable Food-Grade Growing TraysThese trays ensure a safe and hygienic environment for edible crops. Seeding & Transplanting SolutionsStreamlines the early stages of plant growth. Elevator & Transit RobotsAutomates plant movement, reducing labor. Dedicated Germination NurseriesOptimizes conditions for seed germination. Harvesting & Root Cutting TechnologyEfficiently prepares plants for market. Automated Tray CleaningMaintains high sanitary standards with minimal effort & time. Packaging & Traceability ToolsEnsures product quality and traceability. Automated Tray Storage SolutionsSaves space and improves workflows. Interlayer Horizontal AirflowEnsures uniform air distribution for plant health. Precision Environment SensorsMonitors and adjusts growing conditions. Automated Crop ScoutingPowerful AI technology for early issue detection. Farm Management SoftwareCentral control for your vertical farm operations. Integrated Power & PLC SystemsReliable and efficient energy and control systems. Learn More about HYVE  Industry Solutions Beyond Leafy Greens Vertical farms are not only feasible and financially successful for cultivating leafy greens, herbs, and other high-value crops, but they can also be key players in the next generation of agriculture. Vertical farms offer a broad spectrum of possibilities, from molecular farming that generates crucial medicines and sustainable materials, to repurposing vacant office spaces, to the efficient and safe production of cannabis and hemp. HYVE As a Biomanufacturing Platform for the Future of Food and Pharmaceuticals      Transforming food and medicine production through advanced genetic engineering of plant cells to create therapeutic proteins, vaccines, and other valuable biological products.         HYVE As a Platform for the The Future of Cannabis and Hemp Revolutionize cannabis and hemp cultivation with precise environmental control, quality optimization, and lifecycle traceability, setting new standards for sustainable and efficient production. HYVE As a Platform for Revitalizing Commercial Real Estate Our innovative solution repurposes vacant office spaces into productive vertical farms, addressing rising vacancies while meeting the demand for sustainable food production in urban areas. Collaborate   AGEYE is a strong advocate for collaboration as a driving force in advancing the Controlled Environment Agriculture (CEA) industry. If you’re an OEM, vendor, or solutions provider looking to join our ecosystem, please get in touch!   Book a CallLearn More about HYVE  Our Solutions AGEYE Operations Digital Cultivation AGEYE Intelligence Supercharged Crop Intelligence      AGEYE specializes in advanced farm management software, IoT devices, AI-driven crop analytics, and fully automated robotic solutions for vertical farming. Our focus is on enhancing revenue per square foot using data-driven precision agriculture. We’re dedicated to making indoor farming viable and profitable by embracing sustainability and leveraging intelligence to simplify complexities. Our technology empowers indoor growers to transform challenges into opportunities, setting new standards for the future of controlled environment agriculture. United States 4701 Atlantic Ave, Suite 141 Raleigh, NC 27604 India #50 & 50A; 1st Main, Vajpayee Nagar, Hosur Main Road, Bommanahalli, Bangalore, KA 560068 Get in Touch: hello@ageyetech.comFollow us on: InstagramLinkedInFacebookYouTubeVimeoAGEYE  Home AGEYE Grow AGEYE Operations AGEYE Intelligence About Mission News Careers  HYVE  Home Features Markets About Us Press  Our Brands  AGEYE HYVE Digital Cultivation Moonshot Farms AGEYE Labs  Patents: US 10,803,312; US 11,308,715; US 11,775,828 Copyright 2024 AGEYE Technologies  Terms of Use Privacy Policy  Get in Touch  keyboard_arrow_up Menu                          '),\n",
       " Document(metadata={'source': 'https://ageyetech.com/digitalcultivation/', 'title': 'Digital Cultivation - AGEYE Technologies', 'language': 'en-US'}, page_content='  Digital Cultivation - AGEYE Technologies                             SolutionsGrowOperationsIntelligenceCompanyAboutMissionPress and BlogsJobsRequest Demo AGEYE Operations An indoor farm management platform that brings together all data and operational controls into one easy-to-use interface. What do we do? Comprehensive Farm Management and Resource Planning for CEA Operations Our AI-powered farm management platform provides growers with an all-encompassing toolkit for managing their entire farming operation. It covers everything from planting schedules and crop performance metrics to energy consumption and resource distribution, ensuring improved visibility and optimized cost efficiency. This lays the groundwork for undeniable profitability. By consolidating complete farm management, advanced crop intelligence, and precise operational control into a single dashboard, our platform ensures peak performance, representing the cutting edge of intelligent farm management software. Centralized Control Accurate Forecasting Digital Twins Operational Ease Want to see it in action? Request a Demo Centralized Dashboard Digital Cultivation is a centralized dashboard that gathers all data into a user-friendly platform, digitizing the entire farming process for a comprehensive operational overview. This centralization enables data-driven decisions, streamlines efficiency, and increases productivity. Stay updated with instant alerts and notifications. Alerts and Notifications Stay ahead of potential problems with our advanced alerts and notifications system. Receive immediate updates on crucial issues, from leak detection in your irrigation system to deviations in environmental conditions like temperature and humidity. Our platform ensures you’re always the first to know when attention is needed, allowing for swift action to prevent damage to your crops. Efficient Crop Planning and Scheduling With our platform’s advanced algorithms, tailor your farming activities to match crop cycles perfectly, enabling precise planning and scheduling. This ensures that planting, nurturing, and harvesting are carried out at the optimal times. This strategic planning aligns with market demand, ensuring your produce is ready at the right moment. AI Optimized Crop Schedules Our platform uses AI to analyze vast amounts of data, from environment conditions to plant growth rates, predicting the best planting schedules for maximum yield. This intelligent system adjusts in real-time to changes in environmental factors or crop performance, providing dynamic scheduling that adapts to your farm’s unique conditions. By optimizing crop schedules, you reduce waste, enhance productivity, and significantly increase your farming operation’s overall efficiency. Inventory and Supply Chain Management Manage your resources effortlessly. Track seeds, nutrients, and other supplies with precision. Plan your harvests and distribution effectively to meet demand and reduce waste. Data Analysis and Reporting Gain valuable insights into yield forecasts, monitor resource consumption, and assess operational efficiency to fine-tune your farming strategies. By comparing historical growth cycles and establishing performance benchmarks, our comprehensive reports guide you in refining practices to boost your farm’s output and profitability. Energy Management Optimize your energy use. Integrate sustainable energy solutions and monitor consumption to reduce costs and environmental impact. Our energy management tools help you run a more efficient and green operation. Comprehensive System Control Our software places full control of your indoor farm’s systems and operational activities at your fingertips. With just a few clicks, manage every aspect of your environment – from lighting and pumps to airflow – ensuring each element operates at peak efficiency. The platform empowers you with the ability to streamline and oversee key farming tasks such as scouting, planting, and harvesting. This holistic approach to farm management simplifies complex processes, allowing you to adjust conditions in real-time and automate routine operations for unparalleled productivity and results. By integrating control over both hardware systems and farming activities, our software delivers a seamless, efficient farming experience that saves time and enhances yield. Unmatched Integration Designed with unlimited integration capabilities that enable seamless connections with a wide range of other systems through API integration and ensuring data interoperability. This flexibility enables farms to easily share, analyze, and manage data across different vendor technologies and platforms, enhancing operational efficiency and decision-making processes. Food Safety and Automated Record Keeping It’s never been easier to adhere to the FDA’s Produce Safety Rules by enhancing traceability and record-keeping, crucial for managing safety incidents. Digital Cultivation automates compliance with water and soil quality standards, ensuring environmental factors meet FDA guidelines. Additionally, our platform facilitates the implementation of worker health and hygiene practices, directly contributing to the prevention of contamination and the spread of foodborne illnesses. This comprehensive approach supports farms in upholding stringent food safety standards, promoting a safer produce supply chain. Transparent Food Traceability All the Way to the Customer In addition to offering comprehensive control and oversight of plant growth on our farms, we extend this transparency to our customers who purchase our farm-fresh produce. Through a simple QR code scan on the packaging, users can access a summary of how each batch of produce was cultivated without human touch. This commitment to transparency ensures that consumers have a clear understanding of the quality and safety of their food. Grow More. Worry Less. Digital Cultivation’s flexibility allows indoor growers with unique farm configurations to personalize the platform to suit their individual requirements, enhancing efficiency and increasing productivity throughout their operations. Request a DemoOur Solutions AGEYE Grow Hydroponic Year Round Vertical Ecosystem (HYVE) AGEYE Intelligence Supercharged Crop Intelligence AGEYE Operations Our indoor farming platform helps indoor growers produce more crops, with higher yields, and at a lower operating cost, thereby increasing the availability of locally sourced food. AGEYE enables digitization of indoor farms Want to see it in action? Request a Demo      AGEYE specializes in advanced farm management software, IoT devices, AI-driven crop analytics, and fully automated robotic solutions for vertical farming. Our focus is on enhancing revenue per square foot using data-driven precision agriculture. We’re dedicated to making indoor farming viable and profitable by embracing sustainability and leveraging intelligence to simplify complexities. Our technology empowers indoor growers to transform challenges into opportunities, setting new standards for the future of controlled environment agriculture. United States 4701 Atlantic Ave, Suite 141 Raleigh, NC 27604 India #50 & 50A; 1st Main, Vajpayee Nagar, Hosur Main Road, Bommanahalli, Bangalore, KA 560068 Get in Touch: hello@ageyetech.comFollow us on: InstagramLinkedInFacebookYouTubeVimeoAGEYE  Home AGEYE Grow AGEYE Operations AGEYE Intelligence About Mission News Careers  HYVE  Home Features Markets About Us Press  Our Brands  AGEYE HYVE Digital Cultivation Moonshot Farms AGEYE Labs  Patents: US 10,803,312; US 11,308,715; US 11,775,828 Copyright 2024 AGEYE Technologies  Terms of Use Privacy Policy  Get in Touch  keyboard_arrow_up Menu                          '),\n",
       " Document(metadata={'source': 'https://ageyetech.com/intelligence/', 'title': 'Intelligence - AGEYE Technologies', 'language': 'en-US'}, page_content='  Intelligence - AGEYE Technologies                               SolutionsGrowOperationsIntelligenceCompanyAboutMissionPress and BlogsJobsRequest Demo AGEYE Intelligence The leading AI-powered crop intelligence platform for controlled environment agriculture (CEA). Our unique, patented crop intelligence technology is designed from the ground up for indoor farming and honed using millions of real farm data sets, resulting in unparalleled efficiency and productivity across your entire farming operation. AGEYE’s AI platform revolutionizes indoor farming with three advanced AI models, each specifically designed to address distinct aspects of indoor farm management and enhance operational efficiencies. LAM Large Action Models Our LAM technology processes diverse datasets to forecast and refine plant growth strategies, ensuring precise adjustments are made for maximum yield, profitability, and operational efficiency. This transforms insights into tangible actions, streamlining farm operations and enhancing productivity. LLM Large Language Models By analyzing vast amounts of textual data, including environmental conditions, input costs, and crop health reports, alongside deep horticultural knowledge, we convert complex information into actionable insights using generative AI. This empowers farmers with smarter, data-driven farming practices that optimize resources and improve decision-making. CNN Convolutional Neural Networks Our intelligent crop scouting system utilizes visual inputs to provide actionable insights on growth development, enabling the early detection of issues like plant stress, pathogens, or pests. This proactive monitoring saves time, reduces resource usage, and minimizes the risk of crop loss. AGEYE’s Truly Intelligent FarmingTM By optimizing crop yields and streamlining operations, our platform ensures farms operate at peak performance, reducing costs and boosting productivity.         Innovating with Non-DestructiveData Collection and Real-Time Analytics We are proud to introduce the industry’s first non-destructive data collection and real-time distribution modeling system, tailored for commercial growers. The system captures a wealth of data for every single plant, including detailed imagery and environmental readings. This revolutionary approach captures and analyzes critical metrics like fresh mass, temperature, airflow, and height distribution, empowering growers with invaluable insights.            Innovating with Non-DestructiveData Collection and Real-Time Analytics We are proud to introduce the industry’s first non-destructive data collection and real-time distribution modeling system, tailored for commercial growers. The system captures a wealth of data for every single plant, including detailed imagery and environmental readings. This revolutionary approach captures and analyzes critical metrics like fresh mass, temperature, airflow, and height distribution, empowering growers with invaluable insights.    Fresh Mass Distribution         Innovating with Non-DestructiveData Collection and Real-Time Analytics We are proud to introduce the industry’s first non-destructive data collection and real-time distribution modeling system, tailored for commercial growers. The system captures a wealth of data for every single plant, including detailed imagery and environmental readings. This revolutionary approach captures and analyzes critical metrics like fresh mass, temperature, airflow, and height distribution, empowering growers with invaluable insights.    Thermal Imaging         Innovating with Non-DestructiveData Collection and Real-Time Analytics We are proud to introduce the industry’s first non-destructive data collection and real-time distribution modeling system, tailored for commercial growers. The system captures a wealth of data for every single plant, including detailed imagery and environmental readings. This revolutionary approach captures and analyzes critical metrics like fresh mass, temperature, airflow, and height distribution, empowering growers with invaluable insights.    Airflow Distribution         Innovating with Non-DestructiveData Collection and Real-Time Analytics We are proud to introduce the industry’s first non-destructive data collection and real-time distribution modeling system, tailored for commercial growers. The system captures a wealth of data for every single plant, including detailed imagery and environmental readings. This revolutionary approach captures and analyzes critical metrics like fresh mass, temperature, airflow, and height distribution, empowering growers with invaluable insights.    Depth Imaging         Innovating with Non-DestructiveData Collection and Real-Time Analytics We are proud to introduce the industry’s first non-destructive data collection and real-time distribution modeling system, tailored for commercial growers. The system captures a wealth of data for every single plant, including detailed imagery and environmental readings. This revolutionary approach captures and analyzes critical metrics like fresh mass, temperature, airflow, and height distribution, empowering growers with invaluable insights.    Depth Imaging             Innovating with Non-Destructive Data Collection and Real-Time Analytics We are proud to introduce the industry’s first non-destructive data collection and real-time distribution modeling system, tailored for commercial growers. The system captures a wealth of data for every single plant, including detailed imagery and environmental readings. This revolutionary approach captures and analyzes critical metrics like fresh mass, temperature, airflow, and height distribution, empowering growers with invaluable insights.                                Per Plant Visibility AGEYE’s Autonomous Robotic Imaging System (ARIS) redefines precision agriculture by offering per-plant visibility. It allows you to view distributions like fresh mass and VPD across multiple levels or individual trays. This capability enables growers to identify trends, detect issues, and take proactive steps. Whether a plant is nestled in a corner tray or at the top tier of a rack, it receives individual monitoring and analysis, ensuring the highest level of care and precision. Data collection ARISTM – Autonomous Robotic Imaging SystemTM ARISTM is taking crop scouting and monitoring to new heights, integrating three imaging technologies—RGB, Thermal, and Depth—alongside sensors for airflow, temperature, relative humidity, and CO2. Powered by onboard NVIDIA GPUs for edge processing, ARIS operates directly within your farm, ensuring real-time analysis and unparalleled precision in environmental control and plant health monitoring. No one offers a more comprehensive, accurate and validated AI solution for indoor farms. Digital Twin A virtual representation of your farm, allowing for real-time analysis and simulation of different conditions and variables. Optimized Resource Utilization Strategic use of data analysis and real-time monitoring to ensure every drop of water, kilowatt of energy, and ounce of nutrients are used precisely where needed, maximizing their impact on plant growth. Visualize Farming Operations Predict outcomes by simulating various scenarios to optimize growing conditions, enhance yields, and minimize resource use, as well as real-time monitoring of plant health, environmental conditions, and system efficiency. Want to see it in action? Request a Demo Profitable Operations are Driven by Insight, Not Instinct In indoor vertical farms, all factors necessary for growing are intricately interconnected, creating a complex web of interactions that can be challenging to comprehend. Our data-driven approach simplifies this complexity by providing commercial growers with the tools to precisely understand how environmental and nutrient changes affect their crops within their specific facilities. By analyzing vast amounts of data and identifying patterns, our approach enables growers to make informed decisions and optimize their growing conditions for maximum yield and quality. This level of precision empowers growers to navigate the intricate dynamics of indoor farming with confidence, ultimately leading to more efficient and successful crop production.      Want to see it in action? Request a Demo Our Solutions AGEYE Grow Hydroponic Year Round Vertical Ecosystem (HYVE) AGEYE Operations Digital Cultivation      AGEYE specializes in advanced farm management software, IoT devices, AI-driven crop analytics, and fully automated robotic solutions for vertical farming. Our focus is on enhancing revenue per square foot using data-driven precision agriculture. We’re dedicated to making indoor farming viable and profitable by embracing sustainability and leveraging intelligence to simplify complexities. Our technology empowers indoor growers to transform challenges into opportunities, setting new standards for the future of controlled environment agriculture. United States 4701 Atlantic Ave, Suite 141 Raleigh, NC 27604 India #50 & 50A; 1st Main, Vajpayee Nagar, Hosur Main Road, Bommanahalli, Bangalore, KA 560068 Get in Touch: hello@ageyetech.comFollow us on: InstagramLinkedInFacebookYouTubeVimeoAGEYE  Home AGEYE Grow AGEYE Operations AGEYE Intelligence About Mission News Careers  HYVE  Home Features Markets About Us Press  Our Brands  AGEYE HYVE Digital Cultivation Moonshot Farms AGEYE Labs  Patents: US 10,803,312; US 11,308,715; US 11,775,828 Copyright 2024 AGEYE Technologies  Terms of Use Privacy Policy  Get in Touch  keyboard_arrow_up Menu                          ')]"
      ]
     },
     "execution_count": 45,
     "metadata": {},
     "output_type": "execute_result"
    }
   ],
   "source": [
    "docs_list"
   ]
  },
  {
   "cell_type": "code",
   "execution_count": 47,
   "metadata": {},
   "outputs": [],
   "source": [
    "docs_splits = text_splitter.split_documents(docs_list)"
   ]
  },
  {
   "cell_type": "code",
   "execution_count": 48,
   "metadata": {},
   "outputs": [
    {
     "data": {
      "text/plain": [
       "[Document(metadata={'source': 'https://ageyetech.com/hyve/', 'title': 'HYVE - AGEYE Technologies', 'language': 'en-US'}, page_content='HYVE - AGEYE Technologies                             SolutionsGrowOperationsIntelligenceCompanyAboutMissionPress and BlogsJobsRequest Demo AGEYE Grow A fully automated and scalable vertical farming system, integrating cutting-edge robotics, fertigation, and robust racking. What is HYVE? Hydroponic Year-Round Vertical Ecosystem A comprehensive, turnkey'),\n",
       " Document(metadata={'source': 'https://ageyetech.com/hyve/', 'title': 'HYVE - AGEYE Technologies', 'language': 'en-US'}, page_content='A comprehensive, turnkey solution that merges modular racking systems with advanced robotic automation for effortless crop management and farm operations, empowering indoor growers to cultivate a broader range of crops with increased yields and significantly reduced operating costs. A Complete, Automated and Scalable System from One Source Full Automation Efficient and practical robotics technology significantly reduces human errors, improves plant health, and lowers labor costs, all without the substantial financial investment typically required by advanced technologies. Robotic seeding, planting,'),\n",
       " Document(metadata={'source': 'https://ageyetech.com/hyve/', 'title': 'HYVE - AGEYE Technologies', 'language': 'en-US'}, page_content='seeding, planting, scouting, harvesting, tray washing, and more accelerates the farming process to ensure efficient crop turns and yields. Advanced Controlled Environment Monitoring Ensures year-round cultivation in a controlled environment that remains impervious to any climate conditions. It is complemented by advanced monitoring systems, guaranteeing precise control over the growing environment. Real Labor Savings By automating the movement of plants from seeding to harvest, the robots streamline operations, creating a consistent and efficient workflow. They minimize human'),\n",
       " Document(metadata={'source': 'https://ageyetech.com/hyve/', 'title': 'HYVE - AGEYE Technologies', 'language': 'en-US'}, page_content='workflow. They minimize human error, optimize plant care, and significantly cut down on labor costs. Increased Yields and Accelerated Growth HYVE enhances plant growth by delivering an optimal mix of growth factors, including ideal lighting, crop spacing, and airflow. This combination promotes superior plant development, ensuring plants grow healthy and achieve their full potential. Space Saving Productivity Our grow racks, which can be configured to reach up to 20 layers high and extend 120 feet in length, significantly increase productivity, yielding up'),\n",
       " Document(metadata={'source': 'https://ageyetech.com/hyve/', 'title': 'HYVE - AGEYE Technologies', 'language': 'en-US'}, page_content='increase productivity, yielding up to 300 times more than traditional field farming in the same amount of space. Integrated Fertigation Our system enhances water and nutrient distribution by delivering precise nutrient doses and uniform water flow to every level, accommodating a range of crops across their growth phases and in varied conditions. This precision leads to more consistent harvests, enhancing the quality and reliability of crop production. Learn More about HYVE  Quicker Growth. Enhanced Yields. Grow More. Worry Less. We'),\n",
       " Document(metadata={'source': 'https://ageyetech.com/hyve/', 'title': 'HYVE - AGEYE Technologies', 'language': 'en-US'}, page_content='Worry Less. We automate plant movement from seeding to harvest, streamline operations for consistent workflow, minimize human error, enhance plant care, and drastically reduce labor costs, emphasizing space-saving high productivity. Want to learn more? Request a DemoA Proven Solution Precision Indoor Farming at Commercial Scale AGEYE Grow Everything You Need for Automated Vertical Farming Scalable Vertical Racks (4-20 Levels)Engineered to maximize both space efficiency and plant production. Full-Spectrum LED'),\n",
       " Document(metadata={'source': 'https://ageyetech.com/hyve/', 'title': 'HYVE - AGEYE Technologies', 'language': 'en-US'}, page_content='Full-Spectrum LED Grow LightsMimics natural light, enhancing plant growth. Advanced Hydroponic Fertigation SystemDelivers precise nutrients and water for optimal growth. Durable Food-Grade Growing TraysThese trays ensure a safe and hygienic environment for edible crops. Seeding & Transplanting SolutionsStreamlines the early stages of plant growth. Elevator & Transit RobotsAutomates plant movement, reducing labor. Dedicated Germination NurseriesOptimizes conditions for seed'),\n",
       " Document(metadata={'source': 'https://ageyetech.com/hyve/', 'title': 'HYVE - AGEYE Technologies', 'language': 'en-US'}, page_content='conditions for seed germination. Harvesting & Root Cutting TechnologyEfficiently prepares plants for market. Automated Tray CleaningMaintains high sanitary standards with minimal effort & time. Packaging & Traceability ToolsEnsures product quality and traceability. Automated Tray Storage SolutionsSaves space and improves workflows. Interlayer Horizontal AirflowEnsures uniform air distribution for plant health. Precision Environment SensorsMonitors and adjusts growing conditions. Automated Crop ScoutingPowerful'),\n",
       " Document(metadata={'source': 'https://ageyetech.com/hyve/', 'title': 'HYVE - AGEYE Technologies', 'language': 'en-US'}, page_content='Crop ScoutingPowerful AI technology for early issue detection. Farm Management SoftwareCentral control for your vertical farm operations. Integrated Power & PLC SystemsReliable and efficient energy and control systems. Learn More about HYVE  Industry Solutions Beyond Leafy Greens Vertical farms are not only feasible and financially successful for cultivating leafy greens, herbs, and other high-value crops, but they can also be key players in the next generation of agriculture. Vertical farms offer a broad spectrum of possibilities, from molecular farming'),\n",
       " Document(metadata={'source': 'https://ageyetech.com/hyve/', 'title': 'HYVE - AGEYE Technologies', 'language': 'en-US'}, page_content='possibilities, from molecular farming that generates crucial medicines and sustainable materials, to repurposing vacant office spaces, to the efficient and safe production of cannabis and hemp. HYVE As a Biomanufacturing Platform for the Future of Food and Pharmaceuticals      Transforming food and medicine production through advanced genetic engineering of plant cells to create therapeutic proteins, vaccines, and other valuable biological products.         HYVE As a Platform for the The Future of Cannabis and'),\n",
       " Document(metadata={'source': 'https://ageyetech.com/hyve/', 'title': 'HYVE - AGEYE Technologies', 'language': 'en-US'}, page_content='The Future of Cannabis and Hemp Revolutionize cannabis and hemp cultivation with precise environmental control, quality optimization, and lifecycle traceability, setting new standards for sustainable and efficient production. HYVE As a Platform for Revitalizing Commercial Real Estate Our innovative solution repurposes vacant office spaces into productive vertical farms, addressing rising vacancies while meeting the demand for sustainable food production in urban areas. Collaborate   AGEYE is a strong advocate for collaboration as a driving force in advancing the Controlled Environment Agriculture'),\n",
       " Document(metadata={'source': 'https://ageyetech.com/hyve/', 'title': 'HYVE - AGEYE Technologies', 'language': 'en-US'}, page_content='advancing the Controlled Environment Agriculture (CEA) industry. If you’re an OEM, vendor, or solutions provider looking to join our ecosystem, please get in touch!   Book a CallLearn More about HYVE  Our Solutions AGEYE Operations Digital Cultivation AGEYE Intelligence Supercharged Crop Intelligence      AGEYE specializes in advanced farm management software, IoT devices, AI-driven crop analytics, and fully automated robotic solutions for vertical farming. Our focus is'),\n",
       " Document(metadata={'source': 'https://ageyetech.com/hyve/', 'title': 'HYVE - AGEYE Technologies', 'language': 'en-US'}, page_content='farming. Our focus is on enhancing revenue per square foot using data-driven precision agriculture. We’re dedicated to making indoor farming viable and profitable by embracing sustainability and leveraging intelligence to simplify complexities. Our technology empowers indoor growers to transform challenges into opportunities, setting new standards for the future of controlled environment agriculture. United States 4701 Atlantic Ave, Suite 141 Raleigh, NC 27604 India #50 & 50A; 1st Main, Vajpayee Nagar, Hosur Main Road,'),\n",
       " Document(metadata={'source': 'https://ageyetech.com/hyve/', 'title': 'HYVE - AGEYE Technologies', 'language': 'en-US'}, page_content='Hosur Main Road, Bommanahalli, Bangalore, KA 560068 Get in Touch: hello@ageyetech.comFollow us on: InstagramLinkedInFacebookYouTubeVimeoAGEYE  Home AGEYE Grow AGEYE Operations AGEYE Intelligence About Mission News Careers  HYVE  Home Features Markets About Us Press  Our Brands  AGEYE HYVE Digital Cultivation Moonshot Farms AGEYE Labs  Patents: US 10,803,312; US'),\n",
       " Document(metadata={'source': 'https://ageyetech.com/hyve/', 'title': 'HYVE - AGEYE Technologies', 'language': 'en-US'}, page_content='US 11,308,715; US 11,775,828 Copyright 2024 AGEYE Technologies  Terms of Use Privacy Policy  Get in Touch  keyboard_arrow_up Menu'),\n",
       " Document(metadata={'source': 'https://ageyetech.com/digitalcultivation/', 'title': 'Digital Cultivation - AGEYE Technologies', 'language': 'en-US'}, page_content='Digital Cultivation - AGEYE Technologies                             SolutionsGrowOperationsIntelligenceCompanyAboutMissionPress and BlogsJobsRequest Demo AGEYE Operations An indoor farm management platform that brings together all data and operational controls into one easy-to-use interface. What do we do? Comprehensive Farm Management and Resource Planning for CEA Operations Our AI-powered'),\n",
       " Document(metadata={'source': 'https://ageyetech.com/digitalcultivation/', 'title': 'Digital Cultivation - AGEYE Technologies', 'language': 'en-US'}, page_content='Operations Our AI-powered farm management platform provides growers with an all-encompassing toolkit for managing their entire farming operation. It covers everything from planting schedules and crop performance metrics to energy consumption and resource distribution, ensuring improved visibility and optimized cost efficiency. This lays the groundwork for undeniable profitability. By consolidating complete farm management, advanced crop intelligence, and precise operational control into a single dashboard, our platform ensures peak performance, representing the cutting edge of intelligent farm management software. Centralized Control Accurate'),\n",
       " Document(metadata={'source': 'https://ageyetech.com/digitalcultivation/', 'title': 'Digital Cultivation - AGEYE Technologies', 'language': 'en-US'}, page_content='Centralized Control Accurate Forecasting Digital Twins Operational Ease Want to see it in action? Request a Demo Centralized Dashboard Digital Cultivation is a centralized dashboard that gathers all data into a user-friendly platform, digitizing the entire farming process for a comprehensive operational overview. This centralization enables data-driven decisions, streamlines efficiency, and increases productivity. Stay updated with instant alerts and notifications. Alerts and Notifications Stay ahead of potential problems with our advanced alerts and notifications system.'),\n",
       " Document(metadata={'source': 'https://ageyetech.com/digitalcultivation/', 'title': 'Digital Cultivation - AGEYE Technologies', 'language': 'en-US'}, page_content='alerts and notifications system. Receive immediate updates on crucial issues, from leak detection in your irrigation system to deviations in environmental conditions like temperature and humidity. Our platform ensures you’re always the first to know when attention is needed, allowing for swift action to prevent damage to your crops. Efficient Crop Planning and Scheduling With our platform’s advanced algorithms, tailor your farming activities to match crop cycles perfectly, enabling precise planning and scheduling. This ensures that planting, nurturing, and harvesting'),\n",
       " Document(metadata={'source': 'https://ageyetech.com/digitalcultivation/', 'title': 'Digital Cultivation - AGEYE Technologies', 'language': 'en-US'}, page_content='nurturing, and harvesting are carried out at the optimal times. This strategic planning aligns with market demand, ensuring your produce is ready at the right moment. AI Optimized Crop Schedules Our platform uses AI to analyze vast amounts of data, from environment conditions to plant growth rates, predicting the best planting schedules for maximum yield. This intelligent system adjusts in real-time to changes in environmental factors or crop performance, providing dynamic scheduling that adapts to your farm’s unique conditions. By optimizing'),\n",
       " Document(metadata={'source': 'https://ageyetech.com/digitalcultivation/', 'title': 'Digital Cultivation - AGEYE Technologies', 'language': 'en-US'}, page_content='unique conditions. By optimizing crop schedules, you reduce waste, enhance productivity, and significantly increase your farming operation’s overall efficiency. Inventory and Supply Chain Management Manage your resources effortlessly. Track seeds, nutrients, and other supplies with precision. Plan your harvests and distribution effectively to meet demand and reduce waste. Data Analysis and Reporting Gain valuable insights into yield forecasts, monitor resource consumption, and assess operational efficiency to fine-tune your farming strategies. By comparing historical growth cycles and establishing performance'),\n",
       " Document(metadata={'source': 'https://ageyetech.com/digitalcultivation/', 'title': 'Digital Cultivation - AGEYE Technologies', 'language': 'en-US'}, page_content='growth cycles and establishing performance benchmarks, our comprehensive reports guide you in refining practices to boost your farm’s output and profitability. Energy Management Optimize your energy use. Integrate sustainable energy solutions and monitor consumption to reduce costs and environmental impact. Our energy management tools help you run a more efficient and green operation. Comprehensive System Control Our software places full control of your indoor farm’s systems and operational activities at your fingertips. With just a few clicks, manage every aspect of your environment – from'),\n",
       " Document(metadata={'source': 'https://ageyetech.com/digitalcultivation/', 'title': 'Digital Cultivation - AGEYE Technologies', 'language': 'en-US'}, page_content='of your environment – from lighting and pumps to airflow – ensuring each element operates at peak efficiency. The platform empowers you with the ability to streamline and oversee key farming tasks such as scouting, planting, and harvesting. This holistic approach to farm management simplifies complex processes, allowing you to adjust conditions in real-time and automate routine operations for unparalleled productivity and results. By integrating control over both hardware systems and farming activities, our software delivers a seamless, efficient farming experience that saves time and enhances'),\n",
       " Document(metadata={'source': 'https://ageyetech.com/digitalcultivation/', 'title': 'Digital Cultivation - AGEYE Technologies', 'language': 'en-US'}, page_content='that saves time and enhances yield. Unmatched Integration Designed with unlimited integration capabilities that enable seamless connections with a wide range of other systems through API integration and ensuring data interoperability. This flexibility enables farms to easily share, analyze, and manage data across different vendor technologies and platforms, enhancing operational efficiency and decision-making processes. Food Safety and Automated Record Keeping It’s never been easier to adhere to the FDA’s Produce Safety Rules by enhancing traceability and record-keeping, crucial'),\n",
       " Document(metadata={'source': 'https://ageyetech.com/digitalcultivation/', 'title': 'Digital Cultivation - AGEYE Technologies', 'language': 'en-US'}, page_content='record-keeping, crucial for managing safety incidents. Digital Cultivation automates compliance with water and soil quality standards, ensuring environmental factors meet FDA guidelines. Additionally, our platform facilitates the implementation of worker health and hygiene practices, directly contributing to the prevention of contamination and the spread of foodborne illnesses. This comprehensive approach supports farms in upholding stringent food safety standards, promoting a safer produce supply chain. Transparent Food Traceability All the Way to the Customer In addition to offering comprehensive control and oversight of plant growth'),\n",
       " Document(metadata={'source': 'https://ageyetech.com/digitalcultivation/', 'title': 'Digital Cultivation - AGEYE Technologies', 'language': 'en-US'}, page_content='and oversight of plant growth on our farms, we extend this transparency to our customers who purchase our farm-fresh produce. Through a simple QR code scan on the packaging, users can access a summary of how each batch of produce was cultivated without human touch. This commitment to transparency ensures that consumers have a clear understanding of the quality and safety of their food. Grow More. Worry Less. Digital Cultivation’s flexibility allows indoor growers with unique farm configurations to personalize the platform to suit their'),\n",
       " Document(metadata={'source': 'https://ageyetech.com/digitalcultivation/', 'title': 'Digital Cultivation - AGEYE Technologies', 'language': 'en-US'}, page_content='the platform to suit their individual requirements, enhancing efficiency and increasing productivity throughout their operations. Request a DemoOur Solutions AGEYE Grow Hydroponic Year Round Vertical Ecosystem (HYVE) AGEYE Intelligence Supercharged Crop Intelligence AGEYE Operations Our indoor farming platform helps indoor growers produce more crops, with higher yields, and at a lower operating cost, thereby increasing the availability of locally sourced food. AGEYE enables digitization of indoor farms Want to see it in action? Request a'),\n",
       " Document(metadata={'source': 'https://ageyetech.com/digitalcultivation/', 'title': 'Digital Cultivation - AGEYE Technologies', 'language': 'en-US'}, page_content='in action? Request a Demo      AGEYE specializes in advanced farm management software, IoT devices, AI-driven crop analytics, and fully automated robotic solutions for vertical farming. Our focus is on enhancing revenue per square foot using data-driven precision agriculture. We’re dedicated to making indoor farming viable and profitable by embracing sustainability and leveraging intelligence to simplify complexities. Our technology empowers indoor growers to transform challenges into opportunities, setting new standards for the future of controlled environment agriculture.'),\n",
       " Document(metadata={'source': 'https://ageyetech.com/digitalcultivation/', 'title': 'Digital Cultivation - AGEYE Technologies', 'language': 'en-US'}, page_content='of controlled environment agriculture. United States 4701 Atlantic Ave, Suite 141 Raleigh, NC 27604 India #50 & 50A; 1st Main, Vajpayee Nagar, Hosur Main Road, Bommanahalli, Bangalore, KA 560068 Get in Touch: hello@ageyetech.comFollow us on: InstagramLinkedInFacebookYouTubeVimeoAGEYE  Home AGEYE Grow AGEYE Operations AGEYE Intelligence About Mission News Careers  HYVE  Home'),\n",
       " Document(metadata={'source': 'https://ageyetech.com/digitalcultivation/', 'title': 'Digital Cultivation - AGEYE Technologies', 'language': 'en-US'}, page_content='HYVE  Home Features Markets About Us Press  Our Brands  AGEYE HYVE Digital Cultivation Moonshot Farms AGEYE Labs  Patents: US 10,803,312; US 11,308,715; US 11,775,828 Copyright 2024 AGEYE Technologies  Terms of Use Privacy Policy  Get in Touch  keyboard_arrow_up Menu'),\n",
       " Document(metadata={'source': 'https://ageyetech.com/intelligence/', 'title': 'Intelligence - AGEYE Technologies', 'language': 'en-US'}, page_content='Intelligence - AGEYE Technologies                               SolutionsGrowOperationsIntelligenceCompanyAboutMissionPress and BlogsJobsRequest Demo AGEYE Intelligence The leading AI-powered crop intelligence platform for controlled environment agriculture (CEA). Our unique, patented crop intelligence technology is designed from the ground up for indoor farming and honed using millions of real farm data'),\n",
       " Document(metadata={'source': 'https://ageyetech.com/intelligence/', 'title': 'Intelligence - AGEYE Technologies', 'language': 'en-US'}, page_content='millions of real farm data sets, resulting in unparalleled efficiency and productivity across your entire farming operation. AGEYE’s AI platform revolutionizes indoor farming with three advanced AI models, each specifically designed to address distinct aspects of indoor farm management and enhance operational efficiencies. LAM Large Action Models Our LAM technology processes diverse datasets to forecast and refine plant growth strategies, ensuring precise adjustments are made for maximum yield, profitability, and operational efficiency. This transforms insights into tangible actions, streamlining farm operations'),\n",
       " Document(metadata={'source': 'https://ageyetech.com/intelligence/', 'title': 'Intelligence - AGEYE Technologies', 'language': 'en-US'}, page_content='streamlining farm operations and enhancing productivity. LLM Large Language Models By analyzing vast amounts of textual data, including environmental conditions, input costs, and crop health reports, alongside deep horticultural knowledge, we convert complex information into actionable insights using generative AI. This empowers farmers with smarter, data-driven farming practices that optimize resources and improve decision-making. CNN Convolutional Neural Networks Our intelligent crop scouting system utilizes visual inputs to provide actionable insights on growth development, enabling the early'),\n",
       " Document(metadata={'source': 'https://ageyetech.com/intelligence/', 'title': 'Intelligence - AGEYE Technologies', 'language': 'en-US'}, page_content='development, enabling the early detection of issues like plant stress, pathogens, or pests. This proactive monitoring saves time, reduces resource usage, and minimizes the risk of crop loss. AGEYE’s Truly Intelligent FarmingTM By optimizing crop yields and streamlining operations, our platform ensures farms operate at peak performance, reducing costs and boosting productivity.         Innovating with Non-DestructiveData Collection and Real-Time Analytics We are proud to introduce the'),\n",
       " Document(metadata={'source': 'https://ageyetech.com/intelligence/', 'title': 'Intelligence - AGEYE Technologies', 'language': 'en-US'}, page_content='are proud to introduce the industry’s first non-destructive data collection and real-time distribution modeling system, tailored for commercial growers. The system captures a wealth of data for every single plant, including detailed imagery and environmental readings. This revolutionary approach captures and analyzes critical metrics like fresh mass, temperature, airflow, and height distribution, empowering growers with invaluable insights.            Innovating with Non-DestructiveData Collection and Real-Time'),\n",
       " Document(metadata={'source': 'https://ageyetech.com/intelligence/', 'title': 'Intelligence - AGEYE Technologies', 'language': 'en-US'}, page_content='Collection and Real-Time Analytics We are proud to introduce the industry’s first non-destructive data collection and real-time distribution modeling system, tailored for commercial growers. The system captures a wealth of data for every single plant, including detailed imagery and environmental readings. This revolutionary approach captures and analyzes critical metrics like fresh mass, temperature, airflow, and height distribution, empowering growers with invaluable insights.    Fresh Mass Distribution         Innovating with'),\n",
       " Document(metadata={'source': 'https://ageyetech.com/intelligence/', 'title': 'Intelligence - AGEYE Technologies', 'language': 'en-US'}, page_content='Innovating with Non-DestructiveData Collection and Real-Time Analytics We are proud to introduce the industry’s first non-destructive data collection and real-time distribution modeling system, tailored for commercial growers. The system captures a wealth of data for every single plant, including detailed imagery and environmental readings. This revolutionary approach captures and analyzes critical metrics like fresh mass, temperature, airflow, and height distribution, empowering growers with invaluable insights.    Thermal Imaging'),\n",
       " Document(metadata={'source': 'https://ageyetech.com/intelligence/', 'title': 'Intelligence - AGEYE Technologies', 'language': 'en-US'}, page_content='Thermal Imaging         Innovating with Non-DestructiveData Collection and Real-Time Analytics We are proud to introduce the industry’s first non-destructive data collection and real-time distribution modeling system, tailored for commercial growers. The system captures a wealth of data for every single plant, including detailed imagery and environmental readings. This revolutionary approach captures and analyzes critical metrics like fresh mass, temperature, airflow, and height distribution, empowering growers with invaluable'),\n",
       " Document(metadata={'source': 'https://ageyetech.com/intelligence/', 'title': 'Intelligence - AGEYE Technologies', 'language': 'en-US'}, page_content='empowering growers with invaluable insights.    Airflow Distribution         Innovating with Non-DestructiveData Collection and Real-Time Analytics We are proud to introduce the industry’s first non-destructive data collection and real-time distribution modeling system, tailored for commercial growers. The system captures a wealth of data for every single plant, including detailed imagery and environmental readings. This revolutionary approach captures and analyzes critical metrics like fresh mass, temperature,'),\n",
       " Document(metadata={'source': 'https://ageyetech.com/intelligence/', 'title': 'Intelligence - AGEYE Technologies', 'language': 'en-US'}, page_content='fresh mass, temperature, airflow, and height distribution, empowering growers with invaluable insights.    Depth Imaging         Innovating with Non-DestructiveData Collection and Real-Time Analytics We are proud to introduce the industry’s first non-destructive data collection and real-time distribution modeling system, tailored for commercial growers. The system captures a wealth of data for every single plant, including detailed imagery and environmental readings. This revolutionary approach captures and'),\n",
       " Document(metadata={'source': 'https://ageyetech.com/intelligence/', 'title': 'Intelligence - AGEYE Technologies', 'language': 'en-US'}, page_content='This revolutionary approach captures and analyzes critical metrics like fresh mass, temperature, airflow, and height distribution, empowering growers with invaluable insights.    Depth Imaging             Innovating with Non-Destructive Data Collection and Real-Time Analytics We are proud to introduce the industry’s first non-destructive data collection and real-time distribution modeling system, tailored for commercial growers. The system captures a wealth of data for every single'),\n",
       " Document(metadata={'source': 'https://ageyetech.com/intelligence/', 'title': 'Intelligence - AGEYE Technologies', 'language': 'en-US'}, page_content='of data for every single plant, including detailed imagery and environmental readings. This revolutionary approach captures and analyzes critical metrics like fresh mass, temperature, airflow, and height distribution, empowering growers with invaluable insights.                                Per Plant Visibility AGEYE’s Autonomous Robotic Imaging System (ARIS) redefines precision agriculture by offering'),\n",
       " Document(metadata={'source': 'https://ageyetech.com/intelligence/', 'title': 'Intelligence - AGEYE Technologies', 'language': 'en-US'}, page_content='precision agriculture by offering per-plant visibility. It allows you to view distributions like fresh mass and VPD across multiple levels or individual trays. This capability enables growers to identify trends, detect issues, and take proactive steps. Whether a plant is nestled in a corner tray or at the top tier of a rack, it receives individual monitoring and analysis, ensuring the highest level of care and precision. Data collection ARISTM – Autonomous Robotic Imaging SystemTM ARISTM is taking crop scouting'),\n",
       " Document(metadata={'source': 'https://ageyetech.com/intelligence/', 'title': 'Intelligence - AGEYE Technologies', 'language': 'en-US'}, page_content='is taking crop scouting and monitoring to new heights, integrating three imaging technologies—RGB, Thermal, and Depth—alongside sensors for airflow, temperature, relative humidity, and CO2. Powered by onboard NVIDIA GPUs for edge processing, ARIS operates directly within your farm, ensuring real-time analysis and unparalleled precision in environmental control and plant health monitoring. No one offers a more comprehensive, accurate and validated AI solution for indoor farms. Digital Twin A virtual representation of your farm, allowing for real-time'),\n",
       " Document(metadata={'source': 'https://ageyetech.com/intelligence/', 'title': 'Intelligence - AGEYE Technologies', 'language': 'en-US'}, page_content='allowing for real-time analysis and simulation of different conditions and variables. Optimized Resource Utilization Strategic use of data analysis and real-time monitoring to ensure every drop of water, kilowatt of energy, and ounce of nutrients are used precisely where needed, maximizing their impact on plant growth. Visualize Farming Operations Predict outcomes by simulating various scenarios to optimize growing conditions, enhance yields, and minimize resource use, as well as real-time monitoring of plant health, environmental conditions, and system'),\n",
       " Document(metadata={'source': 'https://ageyetech.com/intelligence/', 'title': 'Intelligence - AGEYE Technologies', 'language': 'en-US'}, page_content='environmental conditions, and system efficiency. Want to see it in action? Request a Demo Profitable Operations are Driven by Insight, Not Instinct In indoor vertical farms, all factors necessary for growing are intricately interconnected, creating a complex web of interactions that can be challenging to comprehend. Our data-driven approach simplifies this complexity by providing commercial growers with the tools to precisely understand how environmental and nutrient changes affect their crops within their specific facilities. By analyzing vast amounts of data and identifying patterns, our'),\n",
       " Document(metadata={'source': 'https://ageyetech.com/intelligence/', 'title': 'Intelligence - AGEYE Technologies', 'language': 'en-US'}, page_content='and identifying patterns, our approach enables growers to make informed decisions and optimize their growing conditions for maximum yield and quality. This level of precision empowers growers to navigate the intricate dynamics of indoor farming with confidence, ultimately leading to more efficient and successful crop production.      Want to see it in action? Request a Demo Our Solutions AGEYE Grow Hydroponic Year Round Vertical Ecosystem (HYVE) AGEYE Operations Digital Cultivation      AGEYE specializes'),\n",
       " Document(metadata={'source': 'https://ageyetech.com/intelligence/', 'title': 'Intelligence - AGEYE Technologies', 'language': 'en-US'}, page_content='AGEYE specializes in advanced farm management software, IoT devices, AI-driven crop analytics, and fully automated robotic solutions for vertical farming. Our focus is on enhancing revenue per square foot using data-driven precision agriculture. We’re dedicated to making indoor farming viable and profitable by embracing sustainability and leveraging intelligence to simplify complexities. Our technology empowers indoor growers to transform challenges into opportunities, setting new standards for the future of controlled environment agriculture. United States 4701 Atlantic Ave, Suite 141'),\n",
       " Document(metadata={'source': 'https://ageyetech.com/intelligence/', 'title': 'Intelligence - AGEYE Technologies', 'language': 'en-US'}, page_content='Atlantic Ave, Suite 141 Raleigh, NC 27604 India #50 & 50A; 1st Main, Vajpayee Nagar, Hosur Main Road, Bommanahalli, Bangalore, KA 560068 Get in Touch: hello@ageyetech.comFollow us on: InstagramLinkedInFacebookYouTubeVimeoAGEYE  Home AGEYE Grow AGEYE Operations AGEYE Intelligence About Mission News Careers  HYVE  Home Features Markets About Us Press  Our Brands'),\n",
       " Document(metadata={'source': 'https://ageyetech.com/intelligence/', 'title': 'Intelligence - AGEYE Technologies', 'language': 'en-US'}, page_content='Press  Our Brands  AGEYE HYVE Digital Cultivation Moonshot Farms AGEYE Labs  Patents: US 10,803,312; US 11,308,715; US 11,775,828 Copyright 2024 AGEYE Technologies  Terms of Use Privacy Policy  Get in Touch  keyboard_arrow_up Menu')]"
      ]
     },
     "execution_count": 48,
     "metadata": {},
     "output_type": "execute_result"
    }
   ],
   "source": [
    "docs_splits"
   ]
  },
  {
   "cell_type": "code",
   "execution_count": 52,
   "metadata": {},
   "outputs": [],
   "source": [
    "vectorstore = Chroma.from_documents(\n",
    "    documents = docs_splits,\n",
    "    collection_name = \"rag-chroma\",\n",
    "    embedding = embeddings\n",
    ")"
   ]
  },
  {
   "cell_type": "code",
   "execution_count": 54,
   "metadata": {},
   "outputs": [
    {
     "data": {
      "text/plain": [
       "VectorStoreRetriever(tags=['Chroma', 'HuggingFaceEmbeddings'], vectorstore=<langchain_community.vectorstores.chroma.Chroma object at 0x0000017CBFCD7D30>)"
      ]
     },
     "execution_count": 54,
     "metadata": {},
     "output_type": "execute_result"
    }
   ],
   "source": [
    "vectorstore.as_retriever()"
   ]
  },
  {
   "cell_type": "code",
   "execution_count": 55,
   "metadata": {},
   "outputs": [],
   "source": [
    "retriever=vectorstore.as_retriever()"
   ]
  },
  {
   "cell_type": "code",
   "execution_count": 56,
   "metadata": {},
   "outputs": [
    {
     "data": {
      "text/plain": [
       "langchain_core.vectorstores.base.VectorStoreRetriever"
      ]
     },
     "execution_count": 56,
     "metadata": {},
     "output_type": "execute_result"
    }
   ],
   "source": [
    "type(retriever)"
   ]
  },
  {
   "cell_type": "code",
   "execution_count": 57,
   "metadata": {},
   "outputs": [],
   "source": [
    "retriever_tool = create_retriever_tool(\n",
    "    retriever,\n",
    "    \"retriever_blog_posts\",\n",
    "    \"Search and return information about ageye technologies blog posts on LLM agents, prompt engineering, and adversarial attacks on LLMs.You are a specialized assistant. Use the 'retriever_tool' **only** when the query explicitly relates to LangChain blog data. For all other queries, respond directly without using any tool. For simple queries like 'hi', 'hello', or 'how are you', provide a normal response.\",\n",
    ")"
   ]
  },
  {
   "cell_type": "code",
   "execution_count": 58,
   "metadata": {},
   "outputs": [],
   "source": [
    "tools=[retriever_tool]"
   ]
  },
  {
   "cell_type": "code",
   "execution_count": 59,
   "metadata": {},
   "outputs": [
    {
     "data": {
      "text/plain": [
       "[Tool(name='retriever_blog_posts', description=\"Search and return information about ageye technologies blog posts on LLM agents, prompt engineering, and adversarial attacks on LLMs.You are a specialized assistant. Use the 'retriever_tool' **only** when the query explicitly relates to LangChain blog data. For all other queries, respond directly without using any tool. For simple queries like 'hi', 'hello', or 'how are you', provide a normal response.\", args_schema=<class 'langchain_core.tools.retriever.RetrieverInput'>, func=functools.partial(<function _get_relevant_documents at 0x0000017C8E0F70A0>, retriever=VectorStoreRetriever(tags=['Chroma', 'HuggingFaceEmbeddings'], vectorstore=<langchain_community.vectorstores.chroma.Chroma object at 0x0000017CBFCD7D30>), document_prompt=PromptTemplate(input_variables=['page_content'], template='{page_content}'), document_separator='\\n\\n'), coroutine=functools.partial(<function _aget_relevant_documents at 0x0000017C8E0F7130>, retriever=VectorStoreRetriever(tags=['Chroma', 'HuggingFaceEmbeddings'], vectorstore=<langchain_community.vectorstores.chroma.Chroma object at 0x0000017CBFCD7D30>), document_prompt=PromptTemplate(input_variables=['page_content'], template='{page_content}'), document_separator='\\n\\n'))]"
      ]
     },
     "execution_count": 59,
     "metadata": {},
     "output_type": "execute_result"
    }
   ],
   "source": [
    "tools"
   ]
  },
  {
   "cell_type": "code",
   "execution_count": 23,
   "metadata": {},
   "outputs": [],
   "source": [
    "def AI_Assistant(state):\n",
    "    pass"
   ]
  },
  {
   "cell_type": "code",
   "execution_count": 24,
   "metadata": {},
   "outputs": [],
   "source": [
    "def retriever(state):\n",
    "    pass"
   ]
  },
  {
   "cell_type": "code",
   "execution_count": 25,
   "metadata": {},
   "outputs": [],
   "source": [
    "def rewriter(state):\n",
    "    pass"
   ]
  },
  {
   "cell_type": "code",
   "execution_count": 26,
   "metadata": {},
   "outputs": [],
   "source": [
    "def generate(state):\n",
    "    pass"
   ]
  },
  {
   "cell_type": "code",
   "execution_count": 27,
   "metadata": {},
   "outputs": [],
   "source": [
    "class AgentState:\n",
    "    pass"
   ]
  },
  {
   "cell_type": "code",
   "execution_count": 28,
   "metadata": {},
   "outputs": [
    {
     "data": {
      "text/plain": [
       "<langgraph.graph.state.StateGraph at 0x17cbf529e10>"
      ]
     },
     "execution_count": 28,
     "metadata": {},
     "output_type": "execute_result"
    }
   ],
   "source": [
    "workflow = StateGraph(AgentState)\n",
    "workflow.add_node(\"ai assists\", AI_Assistant)\n",
    "workflow.add_node(\"retriever\", retriever)\n",
    "workflow.add_node(\"rewriter\", rewriter)\n",
    "workflow.add_node(\"generate\", generate)"
   ]
  },
  {
   "cell_type": "code",
   "execution_count": null,
   "metadata": {},
   "outputs": [],
   "source": [
    "workflow.add_edge()\n",
    "workflow.add_conditional_edges()"
   ]
  },
  {
   "cell_type": "code",
   "execution_count": null,
   "metadata": {},
   "outputs": [],
   "source": [
    "app = workflow.compile()"
   ]
  }
 ],
 "metadata": {
  "kernelspec": {
   "display_name": "Python 3",
   "language": "python",
   "name": "python3"
  },
  "language_info": {
   "codemirror_mode": {
    "name": "ipython",
    "version": 3
   },
   "file_extension": ".py",
   "mimetype": "text/x-python",
   "name": "python",
   "nbconvert_exporter": "python",
   "pygments_lexer": "ipython3",
   "version": "3.10.15"
  }
 },
 "nbformat": 4,
 "nbformat_minor": 2
}
