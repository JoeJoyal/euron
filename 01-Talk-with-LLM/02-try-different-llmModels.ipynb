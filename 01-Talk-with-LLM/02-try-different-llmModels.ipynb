{
 "cells": [
  {
   "cell_type": "markdown",
   "metadata": {},
   "source": [
    "<font color=\"green\"> Connect with alternative LLMs </font>\n",
    "- Talk with Open Source LLMs like Llama3 and Mistral.\n",
    "\n",
    "<font color=\"green\">Caveat</font>\n",
    "- Keep in mind that the quality of Llama3 and Mistral is still below the quality of OpenAI's ChatGPT\n",
    "\n",
    "<font color=\"green\">Intro to Groq</font>\n",
    "- Groq in an AI Startup company. **It is not the same as Grok, the LLM from Elon Musk.**\n",
    "- It has developed a new chip call LPU (Language Processing Unit) Which is specificly design to run LLMs faster and cheaper.\n",
    "- It offers Groq Cloud where you can try Open Source LLMs like Llama3 or Mistral.\n",
    "- It allow you to use **Llama3** or **Mistral** in your apps for **free using a Groq API Key** with some rate limits.\n",
    "\n",
    "<font color=\"green\">How to get a free Groq API key</font>\n",
    "- Login into Groq Cloud: <https://console.groq.com/keys>\n",
    "- Once logged in, click on API Keys (left sidebar).\n",
    "- Create a new API Key.\n",
    "- Copy the API Key and paste it in your .env file.\n",
    "\n",
    "<font color=\"green\">How to install Groq in your project</font>\n",
    "\n",
    "If you are using the pre-loaded poetry shell, you do not need to install the following package because it is already pre-loaded for you.\n",
    "LangChain has a module for it. We can install it the same way we install other LangChain modules. Using PIP or (if we are asking in a Poetry app) We can also install it using Poetry. Use one of the following options:\n",
    "\n",
    "- pip install langchain-groq\n",
    "- poetry add langchain-groq\n",
    "\n",
    "<font color=\"green\">How to use Groq in your LangChain or CrewAI project</font>\n",
    "\n",
    "Very easy. Just add the following line at the top of your file:\n",
    "\n",
    " - from langchain_groq import ChatGroq\n",
    "\n",
    " And then, in the code, if you want to use Llama3:"
   ]
  },
  {
   "cell_type": "code",
   "execution_count": null,
   "metadata": {},
   "outputs": [],
   "source": [
    "# from langchain_groq import ChatGroq"
   ]
  },
  {
   "cell_type": "code",
   "execution_count": null,
   "metadata": {},
   "outputs": [],
   "source": [
    "# llm = ChatGroq(\n",
    "#     model = \"llama3-70b-8192\"\n",
    "# )"
   ]
  },
  {
   "cell_type": "markdown",
   "metadata": {},
   "source": [
    "Or if you want to use Mixtral:"
   ]
  },
  {
   "cell_type": "code",
   "execution_count": null,
   "metadata": {},
   "outputs": [],
   "source": [
    "# llm = ChatGroq(\n",
    "#     model = \"mixtral-8x7b-32768\"\n",
    "# )"
   ]
  },
  {
   "cell_type": "markdown",
   "metadata": {},
   "source": [
    "You can take a look at Groq Rate limits here\n",
    "- <https://console.groq.com/settings/limits>"
   ]
  },
  {
   "cell_type": "code",
   "execution_count": null,
   "metadata": {},
   "outputs": [],
   "source": [
    "# pip install langchain-groq"
   ]
  },
  {
   "cell_type": "code",
   "execution_count": 2,
   "metadata": {},
   "outputs": [],
   "source": [
    "import os\n",
    "from dotenv import load_dotenv, find_dotenv\n",
    "_ = load_dotenv(find_dotenv())\n",
    "groq_api_key = os.environ[\"GROQ_API_KEY\"]"
   ]
  },
  {
   "cell_type": "code",
   "execution_count": 3,
   "metadata": {},
   "outputs": [
    {
     "data": {
      "text/plain": [
       "str"
      ]
     },
     "execution_count": 3,
     "metadata": {},
     "output_type": "execute_result"
    }
   ],
   "source": [
    "type(groq_api_key)"
   ]
  },
  {
   "cell_type": "code",
   "execution_count": 5,
   "metadata": {},
   "outputs": [],
   "source": [
    "from langchain_groq import ChatGroq\n",
    "\n",
    "llamachatModel = ChatGroq(\n",
    "    model = \"llama3-70b-8192\"\n",
    ")"
   ]
  },
  {
   "cell_type": "code",
   "execution_count": 6,
   "metadata": {},
   "outputs": [
    {
     "data": {
      "text/plain": [
       "langchain_groq.chat_models.ChatGroq"
      ]
     },
     "execution_count": 6,
     "metadata": {},
     "output_type": "execute_result"
    }
   ],
   "source": [
    "type(llamachatModel)"
   ]
  },
  {
   "cell_type": "code",
   "execution_count": 7,
   "metadata": {},
   "outputs": [],
   "source": [
    "mistralChatModel = ChatGroq(\n",
    "    model = \"mixtral-8x7b-32768\"\n",
    ")"
   ]
  },
  {
   "cell_type": "code",
   "execution_count": 8,
   "metadata": {},
   "outputs": [
    {
     "data": {
      "text/plain": [
       "langchain_groq.chat_models.ChatGroq"
      ]
     },
     "execution_count": 8,
     "metadata": {},
     "output_type": "execute_result"
    }
   ],
   "source": [
    "type(mistralChatModel)"
   ]
  },
  {
   "cell_type": "code",
   "execution_count": 14,
   "metadata": {},
   "outputs": [],
   "source": [
    "messages = [\n",
    "    (\"system\", \"Ensure that fresh, nutritious, and sustainable food is accessible to all.\"),\n",
    "    (\"human\", \"What kind of varities, We can grow in the vertical infoor farming?\")\n",
    "]"
   ]
  },
  {
   "cell_type": "code",
   "execution_count": 15,
   "metadata": {},
   "outputs": [],
   "source": [
    "llamaResponse = llamachatModel.invoke(messages)"
   ]
  },
  {
   "cell_type": "code",
   "execution_count": 16,
   "metadata": {},
   "outputs": [
    {
     "data": {
      "text/plain": [
       "langchain_core.messages.ai.AIMessage"
      ]
     },
     "execution_count": 16,
     "metadata": {},
     "output_type": "execute_result"
    }
   ],
   "source": [
    "type(llamaResponse)"
   ]
  },
  {
   "cell_type": "code",
   "execution_count": 17,
   "metadata": {},
   "outputs": [
    {
     "name": "stdout",
     "output_type": "stream",
     "text": [
      "content='Vertical indoor farming, also known as indoor agriculture or controlled environment agriculture (CEA), offers a wide range of crop varieties that can be grown. Here are some examples:\\n\\n**Leafy Greens:**\\n\\n1. Lettuce ( Romaine, Iceberg, Butter, etc.)\\n2. Spinach\\n3. Kale (Curly, Lacinato, Red Russian, etc.)\\n4. Arugula\\n5. Swiss Chard\\n6. Collard Greens\\n7. Mustard Greens\\n8. Beet Greens\\n\\n**Herbs:**\\n\\n1. Basil\\n2. Cilantro\\n3. Parsley\\n4. Dill\\n5. Mint\\n6. Chives\\n7. Thyme\\n8. Oregano\\n9. Sage\\n10. Rosemary\\n\\n**Microgreens:**\\n\\n1. Pea Shoots\\n2. Radish Greens\\n3. Cilantro Microgreens\\n4. Basil Microgreens\\n5. Kale Microgreens\\n6. Arugula Microgreens\\n7. Mustard Microgreens\\n8. Chard Microgreens\\n\\n**Vegetables:**\\n\\n1. Cherry Tomatoes\\n2. Cucumbers\\n3. Carrots (baby or Parisienne)\\n4. Radishes\\n5. Green Beans\\n6. Peppers (small varieties like Thai Hot or Bell Boy)\\n7. Eggplants (small varieties like Fairy Eggplant)\\n8. Okra\\n9. Zucchini\\n10. Yellow Squash\\n\\n**Fruits:**\\n\\n1. Strawberries (albion or other compact varieties)\\n2. Blueberries (dwarf varieties like Tophat or Bluecrop)\\n3. Raspberries (fall-bearing or compact varieties)\\n4. Citrus (dwarf varieties like dwarf Washington navel oranges or lemons)\\n\\n**Other Crops:**\\n\\n1. Sprouts (broccoli, alfalfa, mung bean, etc.)\\n2. Mushrooms (oyster, shiitake, or other varieties)\\n3. Micro-herbs (like sorrel, shiso, or purslane)\\n\\nKeep in mind that the specific varieties you can grow will depend on factors like:\\n\\n* Climate and temperature control\\n* Lighting (natural or artificial)\\n* Watering and irrigation systems\\n* Nutrient delivery systems\\n* Pest management strategies\\n* Space and layout of your indoor farm\\n\\nRemember to research the specific growing requirements for each crop and plan accordingly to ensure a successful and thriving indoor farm!' response_metadata={'token_usage': {'completion_tokens': 503, 'prompt_tokens': 45, 'total_tokens': 548, 'completion_time': 1.449761305, 'prompt_time': 0.005031684, 'queue_time': 0.615409532, 'total_time': 1.454792989}, 'model_name': 'llama3-70b-8192', 'system_fingerprint': 'fp_753a4aecf6', 'finish_reason': 'stop', 'logprobs': None} id='run-250d76f8-fdb4-4b2d-91c4-2bf074942cd8-0' usage_metadata={'input_tokens': 45, 'output_tokens': 503, 'total_tokens': 548}\n"
     ]
    }
   ],
   "source": [
    "print(llamaResponse)"
   ]
  },
  {
   "cell_type": "code",
   "execution_count": 13,
   "metadata": {},
   "outputs": [
    {
     "name": "stdout",
     "output_type": "stream",
     "text": [
      "In vertical indoor farming, a wide variety of crops can be grown, including:\n",
      "\n",
      "1. **Leafy Greens**: Lettuce, kale, spinach, arugula, and other salad mixes are ideal for vertical farming due to their compact growth habit and high yields.\n",
      "2. **Herbs**: Basil, cilantro, parsley, mint, and other herbs are well-suited for indoor growing and can be harvested continuously.\n",
      "3. **Microgreens**: These young, nutrient-dense versions of leafy greens, herbs, and other vegetables are perfect for vertical farming and can be harvested in as little as 7-10 days.\n",
      "4. **Tomatoes**: Cherry tomatoes, patio tomatoes, and other compact varieties can thrive in vertical indoor farms.\n",
      "5. **Cucumbers**: These versatile vegetables can be trained to climb up trellises or other supports, making them a great fit for vertical farming.\n",
      "6. **Peppers**: Small pepper varieties like Thai chilies, bell peppers, and sweet peppers can be grown vertically.\n",
      "7. **Carrots**: While they require a deeper growing medium, compact varieties of carrots like 'Parisienne' or 'Thumbelina' can be grown in vertical systems.\n",
      "8. **Radishes**: These fast-growing roots can be harvested in as little as 20 days and can be grown in shallow vertical systems.\n",
      "9. **Strawberries**: Alpine strawberry varieties are well-suited for indoor growing and can thrive in vertical systems.\n",
      "10. **Mushrooms**: Many varieties of mushrooms, like oyster, shiitake, and button mushrooms, can be grown vertically using substrates like straw or compost.\n",
      "11. **Flowers**: Edible flowers like violas, pansies, and nasturtiums can add color and beauty to vertical indoor farms.\n",
      "12. **Sprouts**: Alfalfa, broccoli, and mung beans can be grown vertically and harvested in as little as 3-5 days.\n",
      "\n",
      "These are just a few examples of the many crops that can be grown in vertical indoor farms. The specific varieties grown will depend on factors like climate, market demand, and the farm's goals and resources.\n"
     ]
    }
   ],
   "source": [
    "print(llamaResponse.content)"
   ]
  },
  {
   "cell_type": "code",
   "execution_count": 18,
   "metadata": {},
   "outputs": [
    {
     "name": "stdout",
     "output_type": "stream",
     "text": [
      "Vertical indoor farming, also known as indoor agriculture or controlled environment agriculture (CEA), offers a wide range of crop varieties that can be grown. Here are some examples:\n",
      "\n",
      "**Leafy Greens:**\n",
      "\n",
      "1. Lettuce ( Romaine, Iceberg, Butter, etc.)\n",
      "2. Spinach\n",
      "3. Kale (Curly, Lacinato, Red Russian, etc.)\n",
      "4. Arugula\n",
      "5. Swiss Chard\n",
      "6. Collard Greens\n",
      "7. Mustard Greens\n",
      "8. Beet Greens\n",
      "\n",
      "**Herbs:**\n",
      "\n",
      "1. Basil\n",
      "2. Cilantro\n",
      "3. Parsley\n",
      "4. Dill\n",
      "5. Mint\n",
      "6. Chives\n",
      "7. Thyme\n",
      "8. Oregano\n",
      "9. Sage\n",
      "10. Rosemary\n",
      "\n",
      "**Microgreens:**\n",
      "\n",
      "1. Pea Shoots\n",
      "2. Radish Greens\n",
      "3. Cilantro Microgreens\n",
      "4. Basil Microgreens\n",
      "5. Kale Microgreens\n",
      "6. Arugula Microgreens\n",
      "7. Mustard Microgreens\n",
      "8. Chard Microgreens\n",
      "\n",
      "**Vegetables:**\n",
      "\n",
      "1. Cherry Tomatoes\n",
      "2. Cucumbers\n",
      "3. Carrots (baby or Parisienne)\n",
      "4. Radishes\n",
      "5. Green Beans\n",
      "6. Peppers (small varieties like Thai Hot or Bell Boy)\n",
      "7. Eggplants (small varieties like Fairy Eggplant)\n",
      "8. Okra\n",
      "9. Zucchini\n",
      "10. Yellow Squash\n",
      "\n",
      "**Fruits:**\n",
      "\n",
      "1. Strawberries (albion or other compact varieties)\n",
      "2. Blueberries (dwarf varieties like Tophat or Bluecrop)\n",
      "3. Raspberries (fall-bearing or compact varieties)\n",
      "4. Citrus (dwarf varieties like dwarf Washington navel oranges or lemons)\n",
      "\n",
      "**Other Crops:**\n",
      "\n",
      "1. Sprouts (broccoli, alfalfa, mung bean, etc.)\n",
      "2. Mushrooms (oyster, shiitake, or other varieties)\n",
      "3. Micro-herbs (like sorrel, shiso, or purslane)\n",
      "\n",
      "Keep in mind that the specific varieties you can grow will depend on factors like:\n",
      "\n",
      "* Climate and temperature control\n",
      "* Lighting (natural or artificial)\n",
      "* Watering and irrigation systems\n",
      "* Nutrient delivery systems\n",
      "* Pest management strategies\n",
      "* Space and layout of your indoor farm\n",
      "\n",
      "Remember to research the specific growing requirements for each crop and plan accordingly to ensure a successful and thriving indoor farm!\n"
     ]
    }
   ],
   "source": [
    "print(llamaResponse.content)"
   ]
  },
  {
   "cell_type": "code",
   "execution_count": 19,
   "metadata": {},
   "outputs": [],
   "source": [
    "mistralResponse = mistralChatModel.invoke(messages)"
   ]
  },
  {
   "cell_type": "code",
   "execution_count": 20,
   "metadata": {},
   "outputs": [
    {
     "name": "stdout",
     "output_type": "stream",
     "text": [
      "content=\"Vertical indoor farming offers a wide variety of crops that can be grown throughout the year, regardless of outdoor weather conditions. This method allows for the cultivation of a diverse range of fruits, vegetables, and herbs that are fresh, nutritious, and sustainable. Here's a list of crops suitable for vertical indoor farming:\\n\\n1. Leafy Greens: Lettuce, kale, arugula, spinach, and Swiss chard are ideal for vertical farming due to their fast growth rate and high nutritional value. They also require less space than other crops.\\n2. Microgreens: These nutrient-dense seedlings of various leafy vegetables, herbs, and grains can be easily grown indoors and have a short growth cycle, making them a profitable and sustainable option.\\n3. Herbs: Basil, cilantro, parsley, dill, and mint are popular herbs that thrive in indoor vertical farms. They add flavor to meals, have numerous health benefits, and can be grown year-round.\\n4. Vine Crops: Cucumbers, tomatoes, and peppers are vine crops that can be grown vertically using trellises or support systems. Choose compact or dwarf varieties to optimize space in your vertical farm.\\n5. Root Vegetables: Radishes, carrots, beets, and turnips can be grown in vertical hydroponic systems. While their growth may be limited compared to outdoor farming, they still provide a valuable source of nutrition.\\n6. Fruiting Crops: Strawberries, raspberries, and certain types of blueberries can be grown vertically, either in containers or specially designed vertical systems.\\n7. Edible Flowers: Nasturtiums, pansies, violets, and calendulas add visual appeal to dishes while providing nutritional benefits. They can be easily grown indoors in vertical systems.\\n8. Mushrooms: Various mushroom species, such as oyster, shiitake, and lion's mane, can be cultivated indoors in vertical systems, providing a unique and nutritious food source.\\n9. Aquatic Plants: Certain aquatic plants, like watercress, can be incorporated into vertical hydroponic systems, adding another layer of diversity to the farm.\\n10. Tubers: Potatoes, sweet potatoes, and yams can be grown in vertical systems using specially designed containers or towers. While growth may be limited, it's still possible to produce a worthwhile yield.\\n\\nRemember that vertical indoor farming requires careful monitoring of environmental factors, such as temperature, humidity, and light intensity, to optimize crop growth and ensure nutritious, sustainable food for all.\" response_metadata={'token_usage': {'completion_tokens': 598, 'prompt_tokens': 40, 'total_tokens': 638, 'completion_time': 0.955026279, 'prompt_time': 0.004032759, 'queue_time': 0.028420406, 'total_time': 0.959059038}, 'model_name': 'mixtral-8x7b-32768', 'system_fingerprint': 'fp_c5f20b5bb1', 'finish_reason': 'stop', 'logprobs': None} id='run-85811095-61b2-4a77-862a-bfa7e9d9eaa9-0' usage_metadata={'input_tokens': 40, 'output_tokens': 598, 'total_tokens': 638}\n"
     ]
    }
   ],
   "source": [
    "print(mistralResponse)"
   ]
  },
  {
   "cell_type": "code",
   "execution_count": 21,
   "metadata": {},
   "outputs": [
    {
     "name": "stdout",
     "output_type": "stream",
     "text": [
      "Vertical indoor farming offers a wide variety of crops that can be grown throughout the year, regardless of outdoor weather conditions. This method allows for the cultivation of a diverse range of fruits, vegetables, and herbs that are fresh, nutritious, and sustainable. Here's a list of crops suitable for vertical indoor farming:\n",
      "\n",
      "1. Leafy Greens: Lettuce, kale, arugula, spinach, and Swiss chard are ideal for vertical farming due to their fast growth rate and high nutritional value. They also require less space than other crops.\n",
      "2. Microgreens: These nutrient-dense seedlings of various leafy vegetables, herbs, and grains can be easily grown indoors and have a short growth cycle, making them a profitable and sustainable option.\n",
      "3. Herbs: Basil, cilantro, parsley, dill, and mint are popular herbs that thrive in indoor vertical farms. They add flavor to meals, have numerous health benefits, and can be grown year-round.\n",
      "4. Vine Crops: Cucumbers, tomatoes, and peppers are vine crops that can be grown vertically using trellises or support systems. Choose compact or dwarf varieties to optimize space in your vertical farm.\n",
      "5. Root Vegetables: Radishes, carrots, beets, and turnips can be grown in vertical hydroponic systems. While their growth may be limited compared to outdoor farming, they still provide a valuable source of nutrition.\n",
      "6. Fruiting Crops: Strawberries, raspberries, and certain types of blueberries can be grown vertically, either in containers or specially designed vertical systems.\n",
      "7. Edible Flowers: Nasturtiums, pansies, violets, and calendulas add visual appeal to dishes while providing nutritional benefits. They can be easily grown indoors in vertical systems.\n",
      "8. Mushrooms: Various mushroom species, such as oyster, shiitake, and lion's mane, can be cultivated indoors in vertical systems, providing a unique and nutritious food source.\n",
      "9. Aquatic Plants: Certain aquatic plants, like watercress, can be incorporated into vertical hydroponic systems, adding another layer of diversity to the farm.\n",
      "10. Tubers: Potatoes, sweet potatoes, and yams can be grown in vertical systems using specially designed containers or towers. While growth may be limited, it's still possible to produce a worthwhile yield.\n",
      "\n",
      "Remember that vertical indoor farming requires careful monitoring of environmental factors, such as temperature, humidity, and light intensity, to optimize crop growth and ensure nutritious, sustainable food for all.\n"
     ]
    }
   ],
   "source": [
    "print(mistralResponse.content)"
   ]
  },
  {
   "cell_type": "code",
   "execution_count": null,
   "metadata": {},
   "outputs": [],
   "source": []
  },
  {
   "cell_type": "code",
   "execution_count": 25,
   "metadata": {},
   "outputs": [],
   "source": [
    "messages = [\n",
    "    (\"system\", \"Jack of all trades and master of none? But, offentimes better then a master of one!\"),\n",
    "    (\"human\", \"Here who can become failed?\")\n",
    "]"
   ]
  },
  {
   "cell_type": "code",
   "execution_count": 26,
   "metadata": {},
   "outputs": [],
   "source": [
    "llamaResponse = llamachatModel.invoke(messages)"
   ]
  },
  {
   "cell_type": "code",
   "execution_count": 27,
   "metadata": {},
   "outputs": [
    {
     "name": "stdout",
     "output_type": "stream",
     "text": [
      "I think you meant to say \"Here, who can become a master of one?\"\n",
      "\n",
      "The phrase \"jack of all trades, master of none\" implies that someone who tries to be good at many things may not excel in any one particular area. However, as you cleverly pointed out, being a jack of all trades can sometimes be more beneficial than being a master of one. This is because having a broad range of skills can make you more versatile, adaptable, and able to tackle a variety of tasks.\n",
      "\n",
      "That being said, there are certainly situations where being a master of one specific skill or trade can be highly valuable. For example, in fields like medicine, law, or scientific research, having deep expertise in a particular area can be crucial for success.\n",
      "\n",
      "So, to answer your question, anyone can become a master of one, but it often requires intense focus, dedication, and specialized training in that particular area.\n"
     ]
    }
   ],
   "source": [
    "print(llamaResponse.content)"
   ]
  },
  {
   "cell_type": "code",
   "execution_count": 28,
   "metadata": {},
   "outputs": [],
   "source": [
    "mistralChatModel = ChatGroq(\n",
    "    model = \"mixtral-8x7b-32768\"\n",
    ") "
   ]
  },
  {
   "cell_type": "code",
   "execution_count": 29,
   "metadata": {},
   "outputs": [],
   "source": [
    "mistralResponse = mistralChatModel.invoke(messages) "
   ]
  },
  {
   "cell_type": "code",
   "execution_count": 30,
   "metadata": {},
   "outputs": [
    {
     "name": "stdout",
     "output_type": "stream",
     "text": [
      "The phrase \"jack of all trades and master of none\" is used to describe someone who has a broad range of skills and knowledge in many areas, but is not necessarily an expert in any one particular area. The full saying is often completed with the phrase \"but oftentimes better than a master of one,\" which highlights the idea that having a diverse set of skills can be advantageous in certain situations.\n",
      "\n",
      "In terms of who can become a \"jack of all trades,\" anyone can. It simply refers to someone who has a wide range of skills and knowledge, rather than a deep level of expertise in a single area. However, it is important to note that becoming a \"master of one\" typically requires a significant amount of time, effort, and dedication to a particular field or subject.\n",
      "\n",
      "As for who can become \"failed,\" it is not necessarily the case that someone who is a \"jack of all trades\" is more likely to fail than someone who is a \"master of one.\" Both approaches have their own strengths and weaknesses, and success or failure often depends on factors such as individual abilities, opportunities, and circumstances. It is possible for someone who is a \"master of one\" to fail in their chosen field, just as it is possible for someone who is a \"jack of all trades\" to succeed in multiple areas. Ultimately, the key to success is finding what works best for each individual and pursuing it with determination and passion.\n"
     ]
    }
   ],
   "source": [
    "print(mistralResponse.content)"
   ]
  }
 ],
 "metadata": {
  "kernelspec": {
   "display_name": "Python 3",
   "language": "python",
   "name": "python3"
  },
  "language_info": {
   "codemirror_mode": {
    "name": "ipython",
    "version": 3
   },
   "file_extension": ".py",
   "mimetype": "text/x-python",
   "name": "python",
   "nbconvert_exporter": "python",
   "pygments_lexer": "ipython3",
   "version": "3.10.15"
  }
 },
 "nbformat": 4,
 "nbformat_minor": 2
}
