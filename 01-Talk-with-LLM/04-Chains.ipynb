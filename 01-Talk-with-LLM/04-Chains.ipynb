{
 "cells": [
  {
   "cell_type": "markdown",
   "metadata": {},
   "source": [
    "#### <font color=\"green\">Chains</font>\n",
    "- Perform several actions in a particular order."
   ]
  },
  {
   "cell_type": "code",
   "execution_count": null,
   "metadata": {},
   "outputs": [],
   "source": [
    "# pip install python-dotenv"
   ]
  },
  {
   "cell_type": "code",
   "execution_count": 4,
   "metadata": {},
   "outputs": [],
   "source": [
    "import os\n",
    "from dotenv import load_dotenv, find_dotenv\n",
    "_ = load_dotenv(find_dotenv())\n",
    "groq_api_key = os.environ[\"GROQ_API_KEY\"]"
   ]
  },
  {
   "cell_type": "markdown",
   "metadata": {},
   "source": [
    "#### <font color=\"green\">Install LangChain</font>"
   ]
  },
  {
   "cell_type": "code",
   "execution_count": null,
   "metadata": {},
   "outputs": [],
   "source": [
    "# pip install langchain"
   ]
  },
  {
   "cell_type": "markdown",
   "metadata": {},
   "source": [
    "#### <font color=\"green\">Connect with an LLM</font>"
   ]
  },
  {
   "cell_type": "code",
   "execution_count": null,
   "metadata": {},
   "outputs": [],
   "source": [
    "# !pip install langchain-groq"
   ]
  },
  {
   "cell_type": "markdown",
   "metadata": {},
   "source": [
    "###### <font color=\"blue\">NOTE:</font> Since right now is the best LLM in the market, We will use OpenAI by default. You will see how to connect with other Open Source LLMs like Llama3 or Mistral Models."
   ]
  },
  {
   "cell_type": "markdown",
   "metadata": {},
   "source": [
    "##### <font color=\"green\">LLM Model</font>\n",
    "\n",
    "- The trend before the launch of ChatGPT-4.\n",
    "- See LangChain documentation about LLM Models <a href=\"https://python.langchain.com/docs/integrations/chat/\">here.</a>"
   ]
  },
  {
   "cell_type": "code",
   "execution_count": 5,
   "metadata": {},
   "outputs": [],
   "source": [
    "from langchain_groq import ChatGroq\n",
    "\n",
    "llmModel = ChatGroq()"
   ]
  },
  {
   "cell_type": "code",
   "execution_count": 6,
   "metadata": {},
   "outputs": [],
   "source": [
    "from langchain_groq import ChatGroq\n",
    "\n",
    "chatModel = ChatGroq(model=\"llama3-70b-8192\")"
   ]
  },
  {
   "cell_type": "markdown",
   "metadata": {},
   "source": [
    "##### <font color=\"green\">Chat Model</font>\n",
    "- The general trend after the launch of chatGPT-4.\n",
    "  - Frequently knowns as \"ChatBot\".\n",
    "  - Conversation between Human and AI.\n",
    "  - Can have a system prompt defining the tone or the role of the AI.\n",
    "\n",
    "- See LangChain documentation about Chat Models <a href=\"https://python.langchain.com/v0.1/docs/modules/model_io/chat/\">here</a>\n",
    "\n",
    "- By default we will work with ChatOpenAI. See <a href=\"https://python.langchain.com/v0.1/docs/integrations/chat/openai/\">here</a> the LangChain documentation page about it."
   ]
  },
  {
   "cell_type": "markdown",
   "metadata": {},
   "source": [
    "#### <font color=\"green\">Prompt</font>\n",
    "\n",
    "- See the LangChain documentation about prompts <a href=\"\">here.</a>\n",
    "- Input into LLMs.\n",
    "- Prompt templates: easier to use prompts with variables. A prompt template may include:\n",
    "  - Instructions\n",
    "  - Few-shot examples\n",
    "  - Specific context and questions appropriate for a give task."
   ]
  },
  {
   "cell_type": "code",
   "execution_count": 7,
   "metadata": {},
   "outputs": [
    {
     "data": {
      "text/plain": [
       "AIMessage(content='One curious idea for vertical indoor farming development is the integration of aquaponics and aeroponics systems. Aquaponics is a sustainable method of food production that combines fish farming with hydroponics, where the waste produced by the fish is used as a nutrient source for the plants. Aeroponics, on the other hand, is a method of growing plants without soil, where the roots are suspended in air and misted with nutrient-rich water. By combining these two systems, vertical indoor farms can create a closed-loop ecosystem that uses 90% less water than traditional agriculture, produces both plants and fish, and reduces the need for synthetic fertilizers and pesticides.\\n\\nAnother interesting concept is the use of modular and transportable vertical farming units. These units can be easily assembled, disassembled, and moved to different locations, making them ideal for urban environments where space is limited. They can also be stacked on top of each other to create multi-level farms, increasing the amount of produce that can be grown in a small area. These modular units can be equipped with advanced technology such as LED lights, climate control systems, and automation, allowing for precise control over the growing conditions and maximizing crop yields.\\n\\nAdditionally, there is also the potential for vertical indoor farms to incorporate renewable energy sources such as solar panels, wind turbines, and geothermal systems. By using clean energy to power the farms, they can reduce their carbon footprint and contribute to a more sustainable and eco-friendly food system. Furthermore, these farms can also be designed to capture and reuse rainwater and wastewater, further reducing their water usage and environmental impact.\\n\\nAnother curious idea is the use of vertical indoor farms for educational and community purposes. These farms can be used as a teaching tool for students to learn about sustainable agriculture, food systems, and environmental science. They can also be used as a community gathering space, where people can come together to learn, share, and engage in food-related activities. By involving the community in the process of food production, vertical indoor farms can help to increase awareness about the importance of sustainable agriculture and healthy eating.', response_metadata={'token_usage': {'completion_tokens': 456, 'prompt_tokens': 23, 'total_tokens': 479, 'completion_time': 0.733420935, 'prompt_time': 0.003225649, 'queue_time': 0.025181121, 'total_time': 0.736646584}, 'model_name': 'mixtral-8x7b-32768', 'system_fingerprint': 'fp_c5f20b5bb1', 'finish_reason': 'stop', 'logprobs': None}, id='run-f0094b2b-2e35-4133-9ea7-aa867523a62e-0', usage_metadata={'input_tokens': 23, 'output_tokens': 456, 'total_tokens': 479})"
      ]
     },
     "execution_count": 7,
     "metadata": {},
     "output_type": "execute_result"
    }
   ],
   "source": [
    "from langchain_core.prompts import PromptTemplate\n",
    "\n",
    "prompt_template = PromptTemplate.from_template(\n",
    "    \"Tell me a {adjective} ideas about vertical indoor farming development {topic}.\"\n",
    ")\n",
    "\n",
    "llmModelPrompt = prompt_template.format(\n",
    "    adjective=\"curious\",\n",
    "    topic=\"vertical Indoor farming\"\n",
    ")\n",
    "\n",
    "llmModel.invoke(llmModelPrompt)"
   ]
  },
  {
   "cell_type": "code",
   "execution_count": 8,
   "metadata": {},
   "outputs": [],
   "source": [
    "from langchain_core.prompts import ChatPromptTemplate\n",
    "\n",
    "chat_template = ChatPromptTemplate.from_messages(\n",
    "    [\n",
    "        (\"system\", \"You are an {profession} expert on {topic}.\"),\n",
    "        (\"human\", \"Hello, Mr. {profession}, can you please answer a question?\"),\n",
    "        (\"ai\", \"Sure!\"),\n",
    "        (\"human\", \"{user_input}\"),\n",
    "    ]\n",
    "\n",
    ")\n",
    "\n",
    "message = chat_template.format_messages(\n",
    "    profession=\"Ensure that fresh, nutritious, and sustainable food\",\n",
    "    topic=\"Vertical Indoor farming\",\n",
    "    user_input=\"How many type of arugula family in the indoor farm?\"\n",
    ")\n",
    "response = chatModel.invoke(message)"
   ]
  },
  {
   "cell_type": "code",
   "execution_count": 9,
   "metadata": {},
   "outputs": [
    {
     "data": {
      "text/plain": [
       "AIMessage(content=\"As an expert in vertical indoor farming, I can tell you that there are several types of arugula that can be grown in an indoor farm. In fact, arugula is one of the most popular leafy greens grown in indoor farms due to its fast growth rate, nutritional value, and adaptability to controlled environments.\\n\\nThere are several varieties of arugula that can be grown in an indoor farm, including:\\n\\n1. Rocket Arugula (Eruca sativa): This is the most common type of arugula and has a peppery flavor.\\n2. Wild Arugula (Diplotaxis tenuifolia): This variety has a stronger, more intense flavor than rocket arugula.\\n3. Rucola Arugula (Eruca vesicaria): This type of arugula has a more delicate flavor and texture than rocket arugula.\\n4. Astro Arugula (Eruca sativa 'Astro'): This variety is known for its compact growth habit and mild flavor.\\n5. Sylvetta Arugula (Diplotaxis muralis): This type of arugula has a more delicate flavor and texture than rocket arugula.\\n6. Red Arugula (Eruca sativa 'Red'): This variety has a reddish-purple color and a slightly sweeter flavor than rocket arugula.\\n\\nIn an indoor farm, we can grow multiple varieties of arugula depending on the market demand and customer preferences. We can also experiment with different growing conditions, such as lighting, temperature, and nutrient levels, to optimize the flavor, texture, and nutritional content of each variety.\\n\\nI hope that answers your question!\", response_metadata={'token_usage': {'completion_tokens': 341, 'prompt_tokens': 79, 'total_tokens': 420, 'completion_time': 0.974285714, 'prompt_time': 0.006710139, 'queue_time': 0.105752749, 'total_time': 0.980995853}, 'model_name': 'llama3-70b-8192', 'system_fingerprint': 'fp_753a4aecf6', 'finish_reason': 'stop', 'logprobs': None}, id='run-5355504e-599d-414f-9029-6066f0cb496c-0', usage_metadata={'input_tokens': 79, 'output_tokens': 341, 'total_tokens': 420})"
      ]
     },
     "execution_count": 9,
     "metadata": {},
     "output_type": "execute_result"
    }
   ],
   "source": [
    "response"
   ]
  },
  {
   "cell_type": "code",
   "execution_count": 10,
   "metadata": {},
   "outputs": [
    {
     "name": "stdout",
     "output_type": "stream",
     "text": [
      "content=\"As an expert in vertical indoor farming, I can tell you that there are several types of arugula that can be grown in an indoor farm. In fact, arugula is one of the most popular leafy greens grown in indoor farms due to its fast growth rate, nutritional value, and adaptability to controlled environments.\\n\\nThere are several varieties of arugula that can be grown in an indoor farm, including:\\n\\n1. Rocket Arugula (Eruca sativa): This is the most common type of arugula and has a peppery flavor.\\n2. Wild Arugula (Diplotaxis tenuifolia): This variety has a stronger, more intense flavor than rocket arugula.\\n3. Rucola Arugula (Eruca vesicaria): This type of arugula has a more delicate flavor and texture than rocket arugula.\\n4. Astro Arugula (Eruca sativa 'Astro'): This variety is known for its compact growth habit and mild flavor.\\n5. Sylvetta Arugula (Diplotaxis muralis): This type of arugula has a more delicate flavor and texture than rocket arugula.\\n6. Red Arugula (Eruca sativa 'Red'): This variety has a reddish-purple color and a slightly sweeter flavor than rocket arugula.\\n\\nIn an indoor farm, we can grow multiple varieties of arugula depending on the market demand and customer preferences. We can also experiment with different growing conditions, such as lighting, temperature, and nutrient levels, to optimize the flavor, texture, and nutritional content of each variety.\\n\\nI hope that answers your question!\" response_metadata={'token_usage': {'completion_tokens': 341, 'prompt_tokens': 79, 'total_tokens': 420, 'completion_time': 0.974285714, 'prompt_time': 0.006710139, 'queue_time': 0.105752749, 'total_time': 0.980995853}, 'model_name': 'llama3-70b-8192', 'system_fingerprint': 'fp_753a4aecf6', 'finish_reason': 'stop', 'logprobs': None} id='run-5355504e-599d-414f-9029-6066f0cb496c-0' usage_metadata={'input_tokens': 79, 'output_tokens': 341, 'total_tokens': 420}\n"
     ]
    }
   ],
   "source": [
    "print(response)"
   ]
  },
  {
   "cell_type": "code",
   "execution_count": 11,
   "metadata": {},
   "outputs": [
    {
     "name": "stdout",
     "output_type": "stream",
     "text": [
      "As an expert in vertical indoor farming, I can tell you that there are several types of arugula that can be grown in an indoor farm. In fact, arugula is one of the most popular leafy greens grown in indoor farms due to its fast growth rate, nutritional value, and adaptability to controlled environments.\n",
      "\n",
      "There are several varieties of arugula that can be grown in an indoor farm, including:\n",
      "\n",
      "1. Rocket Arugula (Eruca sativa): This is the most common type of arugula and has a peppery flavor.\n",
      "2. Wild Arugula (Diplotaxis tenuifolia): This variety has a stronger, more intense flavor than rocket arugula.\n",
      "3. Rucola Arugula (Eruca vesicaria): This type of arugula has a more delicate flavor and texture than rocket arugula.\n",
      "4. Astro Arugula (Eruca sativa 'Astro'): This variety is known for its compact growth habit and mild flavor.\n",
      "5. Sylvetta Arugula (Diplotaxis muralis): This type of arugula has a more delicate flavor and texture than rocket arugula.\n",
      "6. Red Arugula (Eruca sativa 'Red'): This variety has a reddish-purple color and a slightly sweeter flavor than rocket arugula.\n",
      "\n",
      "In an indoor farm, we can grow multiple varieties of arugula depending on the market demand and customer preferences. We can also experiment with different growing conditions, such as lighting, temperature, and nutrient levels, to optimize the flavor, texture, and nutritional content of each variety.\n",
      "\n",
      "I hope that answers your question!\n"
     ]
    }
   ],
   "source": [
    "print(response.content)"
   ]
  },
  {
   "cell_type": "markdown",
   "metadata": {},
   "source": [
    "##### <font color=\"green\">Old way:</font>"
   ]
  },
  {
   "cell_type": "code",
   "execution_count": 12,
   "metadata": {},
   "outputs": [],
   "source": [
    "from langchain_core.messages import SystemMessage\n",
    "from langchain_core.prompts import HumanMessagePromptTemplate\n",
    "\n",
    "chat_template = ChatPromptTemplate.from_messages(\n",
    "    [\n",
    "        SystemMessage(\n",
    "            content=(\n",
    "                \"You are an ensure that fresh, nutritious, and sustainable food for vertical indoor farming\"\n",
    "            )\n",
    "        ),\n",
    "        HumanMessagePromptTemplate.from_template(\"{user_input}\"),\n",
    "    ]\n",
    ")\n",
    "message = chat_template.format_messages(\n",
    "    user_input=\"How many type of lettuce family in the indoor farm?\"\n",
    ")\n",
    "\n",
    "response = chatModel.invoke(message)"
   ]
  },
  {
   "cell_type": "code",
   "execution_count": 13,
   "metadata": {},
   "outputs": [
    {
     "name": "stdout",
     "output_type": "stream",
     "text": [
      "As an expert in indoor farming, I can tell you that we typically grow a variety of lettuce types to cater to different consumer preferences and to ensure a diverse and resilient crop selection.\n",
      "\n",
      "In our indoor farm, we grow around 15-20 different types of lettuce, which can be broadly classified into five main categories:\n",
      "\n",
      "1. **Romaine/Cos Lettuce**:\n",
      "\t* Romaine\n",
      "\t* Cos\n",
      "\t* Little Gem\n",
      "\t* Red Romaine\n",
      "2. **Butterhead Lettuce**:\n",
      "\t* Boston Lettuce\n",
      "\t* Bibb Lettuce\n",
      "\t* Red Leaf Lettuce\n",
      "\t* Green Leaf Lettuce\n",
      "3. **Loose-Leaf Lettuce**:\n",
      "\t* Red Leaf\n",
      "\t* Green Leaf\n",
      "\t* Oak Leaf\n",
      "\t* Tango (a type of loose-leaf with a tangy flavor)\n",
      "4. **Summer Crisp Lettuce**:\n",
      "\t* Summer Crisp\n",
      "\t* Batavia\n",
      "\t* Concept (a type of summer crisp with a sweet flavor)\n",
      "5. **Specialty Lettuce**:\n",
      "\t* Red Velvet (a type of loose-leaf with a deep red color)\n",
      "\t* Lolla Rossa (a type of loose-leaf with a frilly, red-tinged leaf)\n",
      "\t* Mizuna (a type of Japanese mustard green with a mild flavor)\n",
      "\n",
      "These varieties offer a range of textures, flavors, and colors to suit different culinary applications and consumer preferences. By growing multiple types of lettuce, we can ensure a consistent supply of fresh, nutritious, and delicious greens to our customers throughout the year.\n"
     ]
    }
   ],
   "source": [
    "print(response.content)"
   ]
  },
  {
   "cell_type": "markdown",
   "metadata": {},
   "source": [
    "What is the full potential of ChatPromptTemplate?\n",
    "- Check teh <a href=\"https://python.langchain.com/v0.1/docs/modules/model_io/prompts/quick_start/\">corresponding page</a> in the LangChain API."
   ]
  },
  {
   "cell_type": "markdown",
   "metadata": {},
   "source": [
    "#### <font color=\"green\">Our first chain: an example of few-shot prompting </font>"
   ]
  },
  {
   "cell_type": "code",
   "execution_count": 14,
   "metadata": {},
   "outputs": [],
   "source": [
    "from langchain_core.prompts import FewShotChatMessagePromptTemplate"
   ]
  },
  {
   "cell_type": "code",
   "execution_count": 15,
   "metadata": {},
   "outputs": [],
   "source": [
    "examples = [\n",
    "    {\"input\": \"hi!\", \"output\": \"¡hola!\"},\n",
    "    {\"input\": \"bye!\", \"output\": \"¡adiós!\"},\n",
    "]"
   ]
  },
  {
   "cell_type": "code",
   "execution_count": 16,
   "metadata": {},
   "outputs": [
    {
     "data": {
      "text/plain": [
       "AIMessage(content='I think you meant to say \"Green Butter and Red Butter, are they similar in lettuce varieties?\"\\n\\nIn Spanish, that would be: \"Mantequilla Verde y Mantequilla Roja, ¿son similares en variedades de lechuga?\"\\n\\nBy the way, Green Butter and Red Butter are types of lettuce, right?', response_metadata={'token_usage': {'completion_tokens': 70, 'prompt_tokens': 72, 'total_tokens': 142, 'completion_time': 0.2, 'prompt_time': 0.006511049, 'queue_time': 0.015394280000000002, 'total_time': 0.206511049}, 'model_name': 'llama3-70b-8192', 'system_fingerprint': 'fp_753a4aecf6', 'finish_reason': 'stop', 'logprobs': None}, id='run-96f89571-7ed5-430b-a05d-f33aeabc8228-0', usage_metadata={'input_tokens': 72, 'output_tokens': 70, 'total_tokens': 142})"
      ]
     },
     "execution_count": 16,
     "metadata": {},
     "output_type": "execute_result"
    }
   ],
   "source": [
    "example_prompt = ChatPromptTemplate.from_messages(\n",
    "    [\n",
    "        (\"human\", \"{input}\"),\n",
    "        (\"ai\", \"{output}\")\n",
    "    ]\n",
    ")\n",
    "\n",
    "few_shot_prompt = FewShotChatMessagePromptTemplate(\n",
    "    example_prompt=example_prompt,\n",
    "    examples=examples,\n",
    ")\n",
    "\n",
    "final_prompt = ChatPromptTemplate.from_messages(\n",
    "    [\n",
    "        (\"system\", \"You are an English-Spanish translator.\"),\n",
    "        few_shot_prompt,\n",
    "        (\"human\", \"{input}\"),\n",
    "    ]\n",
    ")\n",
    "\n",
    "chain = final_prompt | chatModel\n",
    "\n",
    "chain.invoke({\"input\": \"green-butter and red-butter its was similar in the lettuce varities?\"})"
   ]
  },
  {
   "cell_type": "markdown",
   "metadata": {},
   "source": [
    "#### <font color=\"green\"> Translate : </font>\n",
    "\n",
    " - <font color=\"blue\">eng :</font> green-butter and red-butter its was similar in the lettuce varities?\n",
    " - <font color=\"blue\">spanish :</font> Mantequilla Verde y Mantequilla Roja, ¿son similares en variedades de lechuga?"
   ]
  },
  {
   "cell_type": "code",
   "execution_count": null,
   "metadata": {},
   "outputs": [],
   "source": []
  },
  {
   "cell_type": "markdown",
   "metadata": {},
   "source": []
  }
 ],
 "metadata": {
  "kernelspec": {
   "display_name": "Python 3",
   "language": "python",
   "name": "python3"
  },
  "language_info": {
   "codemirror_mode": {
    "name": "ipython",
    "version": 3
   },
   "file_extension": ".py",
   "mimetype": "text/x-python",
   "name": "python",
   "nbconvert_exporter": "python",
   "pygments_lexer": "ipython3",
   "version": "3.10.15"
  }
 },
 "nbformat": 4,
 "nbformat_minor": 2
}
