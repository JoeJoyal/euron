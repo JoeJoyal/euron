{
 "cells": [
  {
   "cell_type": "markdown",
   "metadata": {},
   "source": [
    "#### <font color=\"green\">Prompt and Prompt Templates </font>\n",
    "- Introduce programming in your conversation with the LLM.\n",
    "\n",
    "#### <font color=\"green\">Intro</font>\n",
    "- <font color=\"blue\">Input:</font> the prompt we sent to the LLM.\n",
    "- <font color=\"blue\">Output:</font> the response from the LLM.\n",
    "- We can switch LLMs and use several different LLMs.\n",
    "\n",
    "\n",
    "#### <font color=\"green\">Table of contents</font>\n",
    "\n",
    "- <font color=\"light blue\">LLMs.</font>\n",
    "- <font color=\"blue\">Prompts and Prompt Templates.</font>\n",
    "- <font color=\"blue\">Types of prompt:</font> **Zero Shot** and **Few shot(s)** Prompt.\n",
    "- <font color=\"blue\">Serialization: </font> Saving and Loading Prompts.\n",
    "- <font color=\"blue\">Parsing Outputs.</font>\n",
    "\n",
    "#### <font color=\"green\">LangChain divides LLMs in two types</font>\n",
    "1. <font color=\"blue\">LLM Model:</font> Text-completion model.\n",
    "2. <font color=\"blue\">Chat Model:</font> Converses with a **sequence of messages** and can have a particular role defined (system prompt), This type has become the most used in LangChain.\n",
    "\n",
    "#### <font color=\"green\">List of LLMs that can work with LangChain </font>\n",
    "- See the list <a href=\"https://python.langchain.com/docs/integrations/chat/\">here. </a>\n",
    "\n"
   ]
  },
  {
   "cell_type": "code",
   "execution_count": null,
   "metadata": {},
   "outputs": [],
   "source": [
    "# pip install python-dotenv"
   ]
  },
  {
   "cell_type": "code",
   "execution_count": 2,
   "metadata": {},
   "outputs": [],
   "source": [
    "import os\n",
    "from dotenv import load_dotenv, find_dotenv\n",
    "_ = load_dotenv(find_dotenv())\n",
    "groq_api_key = os.environ[\"GROQ_API_KEY\"]"
   ]
  },
  {
   "cell_type": "code",
   "execution_count": 3,
   "metadata": {},
   "outputs": [
    {
     "data": {
      "text/plain": [
       "str"
      ]
     },
     "execution_count": 3,
     "metadata": {},
     "output_type": "execute_result"
    }
   ],
   "source": [
    "type(groq_api_key)"
   ]
  },
  {
   "cell_type": "markdown",
   "metadata": {},
   "source": [
    "##### <font color=\"green\">Install LangChain</font>"
   ]
  },
  {
   "cell_type": "code",
   "execution_count": null,
   "metadata": {},
   "outputs": [],
   "source": [
    "# pip install langchain"
   ]
  },
  {
   "cell_type": "markdown",
   "metadata": {},
   "source": [
    "##### <font color=\"green\">Connect with an LLM</font>"
   ]
  },
  {
   "cell_type": "code",
   "execution_count": null,
   "metadata": {},
   "outputs": [],
   "source": [
    "# pip install langchain-openai # paid one\n",
    "# pip install langchain-groq # free of cost"
   ]
  },
  {
   "cell_type": "markdown",
   "metadata": {},
   "source": [
    "##### <font color=\"green\">LLM Model</font>\n",
    "\n",
    "- The trend before the launch of ChatGPT-4.\n",
    "- See LangChain documentation about LLM Models <a href=\"https://python.langchain.com/docs/integrations/chat/\">here.</a>"
   ]
  },
  {
   "cell_type": "code",
   "execution_count": 5,
   "metadata": {},
   "outputs": [],
   "source": [
    "from langchain_groq import ChatGroq\n",
    "\n",
    "llmModel = ChatGroq()"
   ]
  },
  {
   "cell_type": "code",
   "execution_count": 7,
   "metadata": {},
   "outputs": [],
   "source": [
    "from langchain_groq import ChatGroq\n",
    "\n",
    "chatModel = ChatGroq(model=\"llama3-70b-8192\")"
   ]
  },
  {
   "cell_type": "markdown",
   "metadata": {},
   "source": [
    "#### <font color=\"green\">Prompts and Prompt Templates </font>\n",
    "\n",
    "A **prompt** is the input we provide to one language model. This input will guide the way the language model will respond. There are many types of prompts:\n",
    "\n",
    "- Plain instruction.\n",
    "- Instructions with a few examples (few-shot examples)\n",
    "- Specific context and questions appropiate for a give task.\n",
    "- See the LangChain documentation about prompts <a href=\"https://python.langchain.com/v0.1/docs/modules/model_io/prompts/quick_start/\">here.</a> and preivous version <a href=\"https://python.langchain.com/docs/concepts/prompt_templates/\">here.</a>\n",
    "\n",
    "** Prompt templates** are pre-defined prompt recipes that usually need some extra pieces to be complete. These extra pieces are variables that the user will provide.\n",
    "\n",
    "- **Prompt templates:** When we want to use sophisticated prompts with variables and other elements. A prompt template may include:\n",
    " - Instructions\n",
    " - few-shot examples\n",
    " - Specific context and questions appropriate for a given task."
   ]
  },
  {
   "cell_type": "code",
   "execution_count": 9,
   "metadata": {},
   "outputs": [
    {
     "data": {
      "text/plain": [
       "AIMessage(content='One curious idea for vertical indoor farming development is the integration of aquaponics and aeroponics systems. Aquaponics is a sustainable method of food production that combines fish farming with hydroponics, where the waste produced by the fish is used as a nutrient source for the plants. Aeroponics, on the other hand, is a method of growing plants without soil, where the roots are suspended in air and misted with nutrient-rich water.\\n\\nBy combining these two systems, vertical indoor farms can create a closed-loop ecosystem that uses 90% less water than traditional agriculture, while also producing both plants and fish. This symbiotic relationship can result in higher yields, reduced waste, and lower energy costs.\\n\\nAnother curious idea is the use of modular, stackable farming units that can be easily transported and installed in urban areas with limited space. These units can be customized to fit specific needs, such as growing leafy greens, herbs, or microgreens, and can be stacked several stories high to maximize vertical space. This approach allows for scalable and flexible indoor farming solutions that can be adapted to changing market demands and urban landscapes.\\n\\nAdditionally, the use of advanced technology such as LED lighting, sensor systems, and automation can further optimize vertical indoor farming operations. By using data-driven insights to monitor and control factors such as temperature, humidity, light intensity, and nutrient levels, indoor farmers can create optimal growing conditions that result in higher yields, better quality produce, and reduced labor costs.\\n\\nOverall, the integration of aquaponics and aeroponics systems, modular and stackable farming units, and advanced technology can lead to curious and innovative solutions for vertical indoor farming development that are both sustainable and profitable.', response_metadata={'token_usage': {'completion_tokens': 378, 'prompt_tokens': 23, 'total_tokens': 401, 'completion_time': 0.600960078, 'prompt_time': 0.002458703, 'queue_time': 0.028453203, 'total_time': 0.603418781}, 'model_name': 'mixtral-8x7b-32768', 'system_fingerprint': 'fp_c5f20b5bb1', 'finish_reason': 'stop', 'logprobs': None}, id='run-6b40643e-aa60-42ba-b9d1-5c7e088115da-0', usage_metadata={'input_tokens': 23, 'output_tokens': 378, 'total_tokens': 401})"
      ]
     },
     "execution_count": 9,
     "metadata": {},
     "output_type": "execute_result"
    }
   ],
   "source": [
    "from langchain_core.prompts import PromptTemplate\n",
    "\n",
    "prompt_template = PromptTemplate.from_template(\n",
    "    \"Tell me a {adjective} ideas about vertical indoor farming development {topic}.\"\n",
    ")\n",
    "\n",
    "llmModelPrompt = prompt_template.format(\n",
    "    adjective=\"curious\",\n",
    "    topic=\"vertical Indoor farming\"\n",
    ")\n",
    "\n",
    "llmModel.invoke(llmModelPrompt)"
   ]
  },
  {
   "cell_type": "code",
   "execution_count": 11,
   "metadata": {},
   "outputs": [],
   "source": [
    "from langchain_core.prompts import ChatPromptTemplate\n",
    "\n",
    "chat_template = ChatPromptTemplate.from_messages(\n",
    "    [\n",
    "        (\"system\", \"You are an {profession} expert on {topic}.\"),\n",
    "        (\"human\", \"Hello, Mr. {profession}, can you please answer a question?\"),\n",
    "        (\"ai\", \"Sure!\"),\n",
    "        (\"human\", \"{user_input}\"),\n",
    "    ]\n",
    "\n",
    ")\n",
    "\n",
    "message = chat_template.format_messages(\n",
    "    profession=\"Ensure that fresh, nutritious, and sustainable food\",\n",
    "    topic=\"Vertical Indoor farming\",\n",
    "    user_input=\"How many type of basil family in the indoor farm?\"\n",
    ")\n",
    "response = chatModel.invoke(message)"
   ]
  },
  {
   "cell_type": "code",
   "execution_count": 12,
   "metadata": {},
   "outputs": [
    {
     "data": {
      "text/plain": [
       "AIMessage(content=\"As an expert in vertical indoor farming, I'm delighted to share that there are numerous varieties of basil that can thrive in an indoor farm setting.\\n\\nIn fact, there are over 160 known varieties of basil, and many of them can be grown indoors using vertical farming methods. Here are some of the most popular types of basil that can be grown in an indoor farm:\\n\\n1. Sweet Basil (Ocimum basilicum): The most commonly grown and consumed variety, known for its sweet flavor and aroma.\\n2. Genovese Basil (Ocimum basilicum 'Genovese'): A popular Italian variety, known for its large leaves and intense flavor.\\n3. Thai Basil (Ocimum basilicum var. thyrsiflora): A spicy and aromatic variety, commonly used in Southeast Asian cuisine.\\n4. Lemon Basil (Ocimum x citriodorum): A citrusy and refreshing variety, perfect for adding a twist to traditional basil recipes.\\n5. Purple Basil (Ocimum basilicum 'Purpureum'): A stunning variety with deep purple leaves, adding a pop of color to any dish.\\n6. Cinnamon Basil (Ocimum basilicum 'Cinnamon'): A sweet and spicy variety, with a cinnamon-like flavor and aroma.\\n7. Licorice Basil (Ocimum basilicum 'Licorice'): A unique variety with a distinct licorice flavor, often used in desserts and drinks.\\n8. African Blue Basil (Ocimum kilimandscharicum): A fragrant and flavorful variety, native to Africa, with a slightly spicy taste.\\n9. Holy Basil (Ocimum sanctum): A sacred variety in many Asian cultures, known for its medicinal properties and distinct flavor.\\n10. Pineapple Basil (Ocimum basilicum 'Pineapple'): A sweet and fruity variety, perfect for adding a tropical twist to salads and desserts.\\n\\nThese are just a few examples of the many basil varieties that can be grown in an indoor farm. By using vertical farming methods, growers can cultivate a diverse range of basil varieties, ensuring a consistent supply of fresh, nutritious, and sustainable basil for consumers.\", response_metadata={'token_usage': {'completion_tokens': 436, 'prompt_tokens': 77, 'total_tokens': 513, 'completion_time': 1.2903675159999999, 'prompt_time': 0.007072559, 'queue_time': 0.017725069, 'total_time': 1.297440075}, 'model_name': 'llama3-70b-8192', 'system_fingerprint': 'fp_2f30b0b571', 'finish_reason': 'stop', 'logprobs': None}, id='run-3d3f3bdb-b7ac-41db-bf10-24be5c2abb27-0', usage_metadata={'input_tokens': 77, 'output_tokens': 436, 'total_tokens': 513})"
      ]
     },
     "execution_count": 12,
     "metadata": {},
     "output_type": "execute_result"
    }
   ],
   "source": [
    "response"
   ]
  },
  {
   "cell_type": "code",
   "execution_count": 13,
   "metadata": {},
   "outputs": [
    {
     "name": "stdout",
     "output_type": "stream",
     "text": [
      "content=\"As an expert in vertical indoor farming, I'm delighted to share that there are numerous varieties of basil that can thrive in an indoor farm setting.\\n\\nIn fact, there are over 160 known varieties of basil, and many of them can be grown indoors using vertical farming methods. Here are some of the most popular types of basil that can be grown in an indoor farm:\\n\\n1. Sweet Basil (Ocimum basilicum): The most commonly grown and consumed variety, known for its sweet flavor and aroma.\\n2. Genovese Basil (Ocimum basilicum 'Genovese'): A popular Italian variety, known for its large leaves and intense flavor.\\n3. Thai Basil (Ocimum basilicum var. thyrsiflora): A spicy and aromatic variety, commonly used in Southeast Asian cuisine.\\n4. Lemon Basil (Ocimum x citriodorum): A citrusy and refreshing variety, perfect for adding a twist to traditional basil recipes.\\n5. Purple Basil (Ocimum basilicum 'Purpureum'): A stunning variety with deep purple leaves, adding a pop of color to any dish.\\n6. Cinnamon Basil (Ocimum basilicum 'Cinnamon'): A sweet and spicy variety, with a cinnamon-like flavor and aroma.\\n7. Licorice Basil (Ocimum basilicum 'Licorice'): A unique variety with a distinct licorice flavor, often used in desserts and drinks.\\n8. African Blue Basil (Ocimum kilimandscharicum): A fragrant and flavorful variety, native to Africa, with a slightly spicy taste.\\n9. Holy Basil (Ocimum sanctum): A sacred variety in many Asian cultures, known for its medicinal properties and distinct flavor.\\n10. Pineapple Basil (Ocimum basilicum 'Pineapple'): A sweet and fruity variety, perfect for adding a tropical twist to salads and desserts.\\n\\nThese are just a few examples of the many basil varieties that can be grown in an indoor farm. By using vertical farming methods, growers can cultivate a diverse range of basil varieties, ensuring a consistent supply of fresh, nutritious, and sustainable basil for consumers.\" response_metadata={'token_usage': {'completion_tokens': 436, 'prompt_tokens': 77, 'total_tokens': 513, 'completion_time': 1.2903675159999999, 'prompt_time': 0.007072559, 'queue_time': 0.017725069, 'total_time': 1.297440075}, 'model_name': 'llama3-70b-8192', 'system_fingerprint': 'fp_2f30b0b571', 'finish_reason': 'stop', 'logprobs': None} id='run-3d3f3bdb-b7ac-41db-bf10-24be5c2abb27-0' usage_metadata={'input_tokens': 77, 'output_tokens': 436, 'total_tokens': 513}\n"
     ]
    }
   ],
   "source": [
    "print(response)"
   ]
  },
  {
   "cell_type": "code",
   "execution_count": 14,
   "metadata": {},
   "outputs": [
    {
     "name": "stdout",
     "output_type": "stream",
     "text": [
      "As an expert in vertical indoor farming, I'm delighted to share that there are numerous varieties of basil that can thrive in an indoor farm setting.\n",
      "\n",
      "In fact, there are over 160 known varieties of basil, and many of them can be grown indoors using vertical farming methods. Here are some of the most popular types of basil that can be grown in an indoor farm:\n",
      "\n",
      "1. Sweet Basil (Ocimum basilicum): The most commonly grown and consumed variety, known for its sweet flavor and aroma.\n",
      "2. Genovese Basil (Ocimum basilicum 'Genovese'): A popular Italian variety, known for its large leaves and intense flavor.\n",
      "3. Thai Basil (Ocimum basilicum var. thyrsiflora): A spicy and aromatic variety, commonly used in Southeast Asian cuisine.\n",
      "4. Lemon Basil (Ocimum x citriodorum): A citrusy and refreshing variety, perfect for adding a twist to traditional basil recipes.\n",
      "5. Purple Basil (Ocimum basilicum 'Purpureum'): A stunning variety with deep purple leaves, adding a pop of color to any dish.\n",
      "6. Cinnamon Basil (Ocimum basilicum 'Cinnamon'): A sweet and spicy variety, with a cinnamon-like flavor and aroma.\n",
      "7. Licorice Basil (Ocimum basilicum 'Licorice'): A unique variety with a distinct licorice flavor, often used in desserts and drinks.\n",
      "8. African Blue Basil (Ocimum kilimandscharicum): A fragrant and flavorful variety, native to Africa, with a slightly spicy taste.\n",
      "9. Holy Basil (Ocimum sanctum): A sacred variety in many Asian cultures, known for its medicinal properties and distinct flavor.\n",
      "10. Pineapple Basil (Ocimum basilicum 'Pineapple'): A sweet and fruity variety, perfect for adding a tropical twist to salads and desserts.\n",
      "\n",
      "These are just a few examples of the many basil varieties that can be grown in an indoor farm. By using vertical farming methods, growers can cultivate a diverse range of basil varieties, ensuring a consistent supply of fresh, nutritious, and sustainable basil for consumers.\n"
     ]
    }
   ],
   "source": [
    "print(response.content)"
   ]
  },
  {
   "cell_type": "markdown",
   "metadata": {},
   "source": [
    "#### <font color=\"green\">Old way:</font>"
   ]
  },
  {
   "cell_type": "code",
   "execution_count": 16,
   "metadata": {},
   "outputs": [],
   "source": [
    "from langchain_core.messages import SystemMessage\n",
    "from langchain_core.prompts import HumanMessagePromptTemplate\n",
    "\n",
    "chat_template = ChatPromptTemplate.from_messages(\n",
    "    [\n",
    "        SystemMessage(\n",
    "            content=(\n",
    "                \"You are an ensure that fresh, nutritious, and sustainable food for vertical indoor farming\"\n",
    "            )\n",
    "        ),\n",
    "        HumanMessagePromptTemplate.from_template(\"{user_input}\"),\n",
    "    ]\n",
    ")\n",
    "message = chat_template.format_messages(\n",
    "    user_input=\"How many type of lettuce family in the indoor farm?\"\n",
    ")\n",
    "\n",
    "response = chatModel.invoke(message)"
   ]
  },
  {
   "cell_type": "code",
   "execution_count": 17,
   "metadata": {},
   "outputs": [
    {
     "name": "stdout",
     "output_type": "stream",
     "text": [
      "As an expert in indoor farming, I'm happy to share with you the various types of lettuce that can be grown in a vertical indoor farm.\n",
      "\n",
      "Lettuce is a popular crop for indoor farming due to its adaptability to controlled environments and high demand in the market. Here are some of the most common types of lettuce that can be grown in an indoor farm:\n",
      "\n",
      "1. **Romaine Lettuce** (Lactuca sativa): A crisp, flavorful variety with a distinctive flavor and texture.\n",
      "2. **Iceberg Lettuce** (Lactuca sativa): A mild, crunchy variety with a tight, compact head.\n",
      "3. **Butter Lettuce** (Lactuca sativa): A delicate, sweet variety with loose, tender leaves.\n",
      "4. **Green Leaf Lettuce** (Lactuca sativa): A versatile, mild-tasting variety with loose, serrated leaves.\n",
      "5. **Red Leaf Lettuce** (Lactuca sativa): Similar to green leaf lettuce, but with a deeper red color and slightly sweeter flavor.\n",
      "6. **Oak Leaf Lettuce** (Lactuca sativa): A decorative variety with oak-shaped leaves in shades of green and red.\n",
      "7. **Arugula** (Eruca vesicaria): A peppery, flavorful variety with deeply lobed leaves.\n",
      "8. **Watercress** (Nasturtium officinale): A fast-growing, nutrient-dense variety with a tangy, slightly bitter flavor.\n",
      "9. **Tatsoi** (Brassica rapa var. rosularis): A type of bok choy with dark green, spoon-shaped leaves and a mild flavor.\n",
      "10. **Mizuna** (Brassica rapa var. nipposinica): A mild, slightly sweet variety with deeply lobed leaves and a crunchy texture.\n",
      "\n",
      "These are just a few examples of the many types of lettuce that can be grown in an indoor farm. The specific varieties grown may vary depending on factors like climate, market demand, and personal preference.\n"
     ]
    }
   ],
   "source": [
    "print(response.content)"
   ]
  },
  {
   "cell_type": "markdown",
   "metadata": {},
   "source": [
    "What is the full potential of ChatPromptTemplate?\n",
    "- Check teh <a href=\"https://python.langchain.com/v0.1/docs/modules/model_io/prompts/quick_start/\">corresponding page</a> in the LangChain API."
   ]
  },
  {
   "cell_type": "markdown",
   "metadata": {},
   "source": [
    "#### <font color=\"green\"> Basic prompting strategies </font>\n",
    "\n",
    "- Zero Shot Prompt: \"Classify the sentiment of this review...\"\n",
    "- Few Shot Prompt: \"Classify the sentiment of this review based on these examples...\"\n",
    "- Chain of Thought Prompt:\"Classify the sentiment of this review based on these examples and explanations of the reasoning behine..\""
   ]
  },
  {
   "cell_type": "markdown",
   "metadata": {},
   "source": [
    "#### <font color=\"green\">Few Shot Prompting</font>"
   ]
  },
  {
   "cell_type": "code",
   "execution_count": 18,
   "metadata": {},
   "outputs": [],
   "source": [
    "from langchain_core.prompts import FewShotChatMessagePromptTemplate"
   ]
  },
  {
   "cell_type": "code",
   "execution_count": 19,
   "metadata": {},
   "outputs": [],
   "source": [
    "examples = [\n",
    "    {\"input\": \"hi!\", \"output\": \"¡Hola!\"},\n",
    "    {\"input\": \"bye!\", \"output\": \"¡adiós!\"}\n",
    "]\n",
    "\n",
    "example_prompt = ChatPromptTemplate.from_messages(\n",
    "    [\n",
    "        (\"human\", \"{input}\"),\n",
    "        (\"ai\", \"{output}\"),\n",
    "    ]\n",
    ")\n",
    "\n",
    "few_shot_prompt = FewShotChatMessagePromptTemplate(\n",
    "    example_prompt=example_prompt,\n",
    "    examples=examples,\n",
    ")\n",
    "\n",
    "final_prompt = ChatPromptTemplate.from_messages(\n",
    "    [\n",
    "        (\"system\", \"You are an English-Spanish translator.\"),\n",
    "        few_shot_prompt,\n",
    "        (\"human\", \"{input}\"),\n",
    "    ]\n",
    ")"
   ]
  },
  {
   "cell_type": "code",
   "execution_count": 20,
   "metadata": {},
   "outputs": [
    {
     "name": "stdout",
     "output_type": "stream",
     "text": [
      "input_variables=['input'] messages=[SystemMessagePromptTemplate(prompt=PromptTemplate(input_variables=[], template='You are an English-Spanish translator.')), FewShotChatMessagePromptTemplate(examples=[{'input': 'hi!', 'output': '¡Hola!'}, {'input': 'bye!', 'output': '¡adiós!'}], example_prompt=ChatPromptTemplate(input_variables=['input', 'output'], messages=[HumanMessagePromptTemplate(prompt=PromptTemplate(input_variables=['input'], template='{input}')), AIMessagePromptTemplate(prompt=PromptTemplate(input_variables=['output'], template='{output}'))])), HumanMessagePromptTemplate(prompt=PromptTemplate(input_variables=['input'], template='{input}'))]\n"
     ]
    }
   ],
   "source": [
    "print(final_prompt)"
   ]
  },
  {
   "cell_type": "markdown",
   "metadata": {},
   "source": []
  }
 ],
 "metadata": {
  "kernelspec": {
   "display_name": "Python 3",
   "language": "python",
   "name": "python3"
  },
  "language_info": {
   "codemirror_mode": {
    "name": "ipython",
    "version": 3
   },
   "file_extension": ".py",
   "mimetype": "text/x-python",
   "name": "python",
   "nbconvert_exporter": "python",
   "pygments_lexer": "ipython3",
   "version": "3.10.15"
  }
 },
 "nbformat": 4,
 "nbformat_minor": 2
}
